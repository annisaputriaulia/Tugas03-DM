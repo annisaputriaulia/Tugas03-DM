{
  "nbformat": 4,
  "nbformat_minor": 5,
  "metadata": {
    "kernelspec": {
      "display_name": "Python 3 (ipykernel)",
      "language": "python",
      "name": "python3"
    },
    "language_info": {
      "codemirror_mode": {
        "name": "ipython",
        "version": 3
      },
      "file_extension": ".py",
      "mimetype": "text/x-python",
      "name": "python",
      "nbconvert_exporter": "python",
      "pygments_lexer": "ipython3",
      "version": "3.7.7"
    },
    "colab": {
      "name": "Tugas03-Data Mining-H071191029.ipynb",
      "provenance": []
    }
  },
  "cells": [
    {
      "cell_type": "markdown",
      "metadata": {
        "id": "c0c54890"
      },
      "source": [
        "Nama: Annisa Putri Aulia\n",
        "NIM: H071191029\n",
        "Tugas Datamining"
      ],
      "id": "c0c54890"
    },
    {
      "cell_type": "code",
      "metadata": {
        "id": "1615b612"
      },
      "source": [
        "# Import modul yang dibutuhkan\n",
        "\n",
        "import pandas as pd\n",
        "import numpy as np\n",
        "\n",
        "from sklearn import tree\n",
        "from sklearn.naive_bayes import GaussianNB\n",
        "from sklearn.model_selection import train_test_split\n",
        "from sklearn.preprocessing import LabelEncoder\n",
        "from sklearn.metrics import confusion_matrix\n",
        "\n",
        "from matplotlib import pyplot as plt\n",
        "\n",
        "from sklearn.datasets import make_classification\n",
        "from imblearn.over_sampling import RandomOverSampler\n",
        "from imblearn.under_sampling import RandomUnderSampler\n",
        "from collections import Counter"
      ],
      "id": "1615b612",
      "execution_count": 38,
      "outputs": []
    },
    {
      "cell_type": "markdown",
      "metadata": {
        "id": "9abbcaad"
      },
      "source": [
        "## Import dataset titanic\n",
        "\n",
        "Penjelasan: Dataset yang diimport adalah dataset yang terdiri dari 3 atribut dan 1 label. Di mana 3 attributnya adalah pclass, sex, dan age. Sementara labelnya adalah survived.\n",
        "\n",
        "#### Penjelasan kolom:\n",
        "* pclass: kelas penumpang, di mana kelas 1 merupakan yang tertinggi sedangkan kelas 3 adalah yang terendah\n",
        "* sex: jenis kelamin penumpang\n",
        "* age: umur para penumpang\n",
        "* survived: apakah penumpang tersebut selamat atau tidak, 1 jika selamat dan 0 jika tidak"
      ],
      "id": "9abbcaad"
    },
    {
      "cell_type": "code",
      "metadata": {
        "id": "520989b5",
        "colab": {
          "base_uri": "https://localhost:8080/",
          "height": 206
        },
        "outputId": "27d83510-5cc8-450b-ac0d-1155acab7c91"
      },
      "source": [
        "# Mengimport data\n",
        "\n",
        "data= pd.read_csv('titanic.csv')[['pclass', 'sex', 'age', 'survived']]\n",
        "data.head()"
      ],
      "id": "520989b5",
      "execution_count": 39,
      "outputs": [
        {
          "output_type": "execute_result",
          "data": {
            "text/html": [
              "<div>\n",
              "<style scoped>\n",
              "    .dataframe tbody tr th:only-of-type {\n",
              "        vertical-align: middle;\n",
              "    }\n",
              "\n",
              "    .dataframe tbody tr th {\n",
              "        vertical-align: top;\n",
              "    }\n",
              "\n",
              "    .dataframe thead th {\n",
              "        text-align: right;\n",
              "    }\n",
              "</style>\n",
              "<table border=\"1\" class=\"dataframe\">\n",
              "  <thead>\n",
              "    <tr style=\"text-align: right;\">\n",
              "      <th></th>\n",
              "      <th>pclass</th>\n",
              "      <th>sex</th>\n",
              "      <th>age</th>\n",
              "      <th>survived</th>\n",
              "    </tr>\n",
              "  </thead>\n",
              "  <tbody>\n",
              "    <tr>\n",
              "      <th>0</th>\n",
              "      <td>3</td>\n",
              "      <td>male</td>\n",
              "      <td>22.0</td>\n",
              "      <td>0</td>\n",
              "    </tr>\n",
              "    <tr>\n",
              "      <th>1</th>\n",
              "      <td>1</td>\n",
              "      <td>female</td>\n",
              "      <td>38.0</td>\n",
              "      <td>1</td>\n",
              "    </tr>\n",
              "    <tr>\n",
              "      <th>2</th>\n",
              "      <td>3</td>\n",
              "      <td>female</td>\n",
              "      <td>26.0</td>\n",
              "      <td>1</td>\n",
              "    </tr>\n",
              "    <tr>\n",
              "      <th>3</th>\n",
              "      <td>1</td>\n",
              "      <td>female</td>\n",
              "      <td>35.0</td>\n",
              "      <td>1</td>\n",
              "    </tr>\n",
              "    <tr>\n",
              "      <th>4</th>\n",
              "      <td>3</td>\n",
              "      <td>male</td>\n",
              "      <td>35.0</td>\n",
              "      <td>0</td>\n",
              "    </tr>\n",
              "  </tbody>\n",
              "</table>\n",
              "</div>"
            ],
            "text/plain": [
              "   pclass     sex   age  survived\n",
              "0       3    male  22.0         0\n",
              "1       1  female  38.0         1\n",
              "2       3  female  26.0         1\n",
              "3       1  female  35.0         1\n",
              "4       3    male  35.0         0"
            ]
          },
          "metadata": {},
          "execution_count": 39
        }
      ]
    },
    {
      "cell_type": "markdown",
      "metadata": {
        "id": "558a02a7"
      },
      "source": [
        "Mengecek dtype masing-masing kolom"
      ],
      "id": "558a02a7"
    },
    {
      "cell_type": "code",
      "metadata": {
        "id": "20660629",
        "colab": {
          "base_uri": "https://localhost:8080/"
        },
        "outputId": "d9131d6a-fd45-46f7-beff-3505990e2485"
      },
      "source": [
        "for i in data.columns:\n",
        "    print(f\"{i} bertipe data {data[i].dtypes}\")"
      ],
      "id": "20660629",
      "execution_count": 40,
      "outputs": [
        {
          "output_type": "stream",
          "name": "stdout",
          "text": [
            "pclass bertipe data int64\n",
            "sex bertipe data object\n",
            "age bertipe data float64\n",
            "survived bertipe data int64\n"
          ]
        }
      ]
    },
    {
      "cell_type": "markdown",
      "metadata": {
        "id": "d75dc1d7"
      },
      "source": [
        "## Handle Missing Value"
      ],
      "id": "d75dc1d7"
    },
    {
      "cell_type": "code",
      "metadata": {
        "scrolled": true,
        "id": "469a6619",
        "colab": {
          "base_uri": "https://localhost:8080/"
        },
        "outputId": "1803bd52-f939-4322-a0f5-4ef1d7ac996c"
      },
      "source": [
        "# Mengecek apakah data mempunyai nilai NaN\n",
        "data.isna().sum()"
      ],
      "id": "469a6619",
      "execution_count": 41,
      "outputs": [
        {
          "output_type": "execute_result",
          "data": {
            "text/plain": [
              "pclass        0\n",
              "sex           0\n",
              "age         177\n",
              "survived      0\n",
              "dtype: int64"
            ]
          },
          "metadata": {},
          "execution_count": 41
        }
      ]
    },
    {
      "cell_type": "code",
      "metadata": {
        "id": "8770a6f8",
        "colab": {
          "base_uri": "https://localhost:8080/"
        },
        "outputId": "ca2b1fd2-14fa-492e-fc3c-7a99184f8b7a"
      },
      "source": [
        "# Mengisi data age yang NaN dengan mean\n",
        "data['age'].fillna(data['age'].mean(), inplace=True)\n",
        "\n",
        "data.isna().sum()"
      ],
      "id": "8770a6f8",
      "execution_count": 42,
      "outputs": [
        {
          "output_type": "execute_result",
          "data": {
            "text/plain": [
              "pclass      0\n",
              "sex         0\n",
              "age         0\n",
              "survived    0\n",
              "dtype: int64"
            ]
          },
          "metadata": {},
          "execution_count": 42
        }
      ]
    },
    {
      "cell_type": "markdown",
      "metadata": {
        "id": "d2cd429f"
      },
      "source": [
        "### Categorical encoding using Label-Encoding and One-Hot-Encoder \n"
      ],
      "id": "d2cd429f"
    },
    {
      "cell_type": "markdown",
      "metadata": {
        "id": "f3f72d74"
      },
      "source": [
        "1. One Hot Encoding"
      ],
      "id": "f3f72d74"
    },
    {
      "cell_type": "code",
      "metadata": {
        "id": "687d5da4",
        "colab": {
          "base_uri": "https://localhost:8080/",
          "height": 423
        },
        "outputId": "75c7a83c-5083-4b37-8fa6-7124f2926981"
      },
      "source": [
        "one_hot_encoded_data = pd.get_dummies(data, columns = [\"survived\"])\n",
        "one_hot_encoded_data"
      ],
      "id": "687d5da4",
      "execution_count": 43,
      "outputs": [
        {
          "output_type": "execute_result",
          "data": {
            "text/html": [
              "<div>\n",
              "<style scoped>\n",
              "    .dataframe tbody tr th:only-of-type {\n",
              "        vertical-align: middle;\n",
              "    }\n",
              "\n",
              "    .dataframe tbody tr th {\n",
              "        vertical-align: top;\n",
              "    }\n",
              "\n",
              "    .dataframe thead th {\n",
              "        text-align: right;\n",
              "    }\n",
              "</style>\n",
              "<table border=\"1\" class=\"dataframe\">\n",
              "  <thead>\n",
              "    <tr style=\"text-align: right;\">\n",
              "      <th></th>\n",
              "      <th>pclass</th>\n",
              "      <th>sex</th>\n",
              "      <th>age</th>\n",
              "      <th>survived_0</th>\n",
              "      <th>survived_1</th>\n",
              "    </tr>\n",
              "  </thead>\n",
              "  <tbody>\n",
              "    <tr>\n",
              "      <th>0</th>\n",
              "      <td>3</td>\n",
              "      <td>male</td>\n",
              "      <td>22.000000</td>\n",
              "      <td>1</td>\n",
              "      <td>0</td>\n",
              "    </tr>\n",
              "    <tr>\n",
              "      <th>1</th>\n",
              "      <td>1</td>\n",
              "      <td>female</td>\n",
              "      <td>38.000000</td>\n",
              "      <td>0</td>\n",
              "      <td>1</td>\n",
              "    </tr>\n",
              "    <tr>\n",
              "      <th>2</th>\n",
              "      <td>3</td>\n",
              "      <td>female</td>\n",
              "      <td>26.000000</td>\n",
              "      <td>0</td>\n",
              "      <td>1</td>\n",
              "    </tr>\n",
              "    <tr>\n",
              "      <th>3</th>\n",
              "      <td>1</td>\n",
              "      <td>female</td>\n",
              "      <td>35.000000</td>\n",
              "      <td>0</td>\n",
              "      <td>1</td>\n",
              "    </tr>\n",
              "    <tr>\n",
              "      <th>4</th>\n",
              "      <td>3</td>\n",
              "      <td>male</td>\n",
              "      <td>35.000000</td>\n",
              "      <td>1</td>\n",
              "      <td>0</td>\n",
              "    </tr>\n",
              "    <tr>\n",
              "      <th>...</th>\n",
              "      <td>...</td>\n",
              "      <td>...</td>\n",
              "      <td>...</td>\n",
              "      <td>...</td>\n",
              "      <td>...</td>\n",
              "    </tr>\n",
              "    <tr>\n",
              "      <th>886</th>\n",
              "      <td>2</td>\n",
              "      <td>male</td>\n",
              "      <td>27.000000</td>\n",
              "      <td>1</td>\n",
              "      <td>0</td>\n",
              "    </tr>\n",
              "    <tr>\n",
              "      <th>887</th>\n",
              "      <td>1</td>\n",
              "      <td>female</td>\n",
              "      <td>19.000000</td>\n",
              "      <td>0</td>\n",
              "      <td>1</td>\n",
              "    </tr>\n",
              "    <tr>\n",
              "      <th>888</th>\n",
              "      <td>3</td>\n",
              "      <td>female</td>\n",
              "      <td>29.699118</td>\n",
              "      <td>1</td>\n",
              "      <td>0</td>\n",
              "    </tr>\n",
              "    <tr>\n",
              "      <th>889</th>\n",
              "      <td>1</td>\n",
              "      <td>male</td>\n",
              "      <td>26.000000</td>\n",
              "      <td>0</td>\n",
              "      <td>1</td>\n",
              "    </tr>\n",
              "    <tr>\n",
              "      <th>890</th>\n",
              "      <td>3</td>\n",
              "      <td>male</td>\n",
              "      <td>32.000000</td>\n",
              "      <td>1</td>\n",
              "      <td>0</td>\n",
              "    </tr>\n",
              "  </tbody>\n",
              "</table>\n",
              "<p>891 rows × 5 columns</p>\n",
              "</div>"
            ],
            "text/plain": [
              "     pclass     sex        age  survived_0  survived_1\n",
              "0         3    male  22.000000           1           0\n",
              "1         1  female  38.000000           0           1\n",
              "2         3  female  26.000000           0           1\n",
              "3         1  female  35.000000           0           1\n",
              "4         3    male  35.000000           1           0\n",
              "..      ...     ...        ...         ...         ...\n",
              "886       2    male  27.000000           1           0\n",
              "887       1  female  19.000000           0           1\n",
              "888       3  female  29.699118           1           0\n",
              "889       1    male  26.000000           0           1\n",
              "890       3    male  32.000000           1           0\n",
              "\n",
              "[891 rows x 5 columns]"
            ]
          },
          "metadata": {},
          "execution_count": 43
        }
      ]
    },
    {
      "cell_type": "markdown",
      "metadata": {
        "id": "981148b8"
      },
      "source": [
        "2. Label Encoding"
      ],
      "id": "981148b8"
    },
    {
      "cell_type": "code",
      "metadata": {
        "id": "eaccb48c",
        "colab": {
          "base_uri": "https://localhost:8080/",
          "height": 423
        },
        "outputId": "4107b3e7-6c78-478a-ddf8-3c1ce2f908c7"
      },
      "source": [
        "# Encode label\n",
        "Le= LabelEncoder()\n",
        "\n",
        "for i in data.columns: \n",
        "    data[i]= Le.fit_transform(data[i])\n",
        "    \n",
        "data"
      ],
      "id": "eaccb48c",
      "execution_count": 44,
      "outputs": [
        {
          "output_type": "execute_result",
          "data": {
            "text/html": [
              "<div>\n",
              "<style scoped>\n",
              "    .dataframe tbody tr th:only-of-type {\n",
              "        vertical-align: middle;\n",
              "    }\n",
              "\n",
              "    .dataframe tbody tr th {\n",
              "        vertical-align: top;\n",
              "    }\n",
              "\n",
              "    .dataframe thead th {\n",
              "        text-align: right;\n",
              "    }\n",
              "</style>\n",
              "<table border=\"1\" class=\"dataframe\">\n",
              "  <thead>\n",
              "    <tr style=\"text-align: right;\">\n",
              "      <th></th>\n",
              "      <th>pclass</th>\n",
              "      <th>sex</th>\n",
              "      <th>age</th>\n",
              "      <th>survived</th>\n",
              "    </tr>\n",
              "  </thead>\n",
              "  <tbody>\n",
              "    <tr>\n",
              "      <th>0</th>\n",
              "      <td>2</td>\n",
              "      <td>1</td>\n",
              "      <td>28</td>\n",
              "      <td>0</td>\n",
              "    </tr>\n",
              "    <tr>\n",
              "      <th>1</th>\n",
              "      <td>0</td>\n",
              "      <td>0</td>\n",
              "      <td>52</td>\n",
              "      <td>1</td>\n",
              "    </tr>\n",
              "    <tr>\n",
              "      <th>2</th>\n",
              "      <td>2</td>\n",
              "      <td>0</td>\n",
              "      <td>34</td>\n",
              "      <td>1</td>\n",
              "    </tr>\n",
              "    <tr>\n",
              "      <th>3</th>\n",
              "      <td>0</td>\n",
              "      <td>0</td>\n",
              "      <td>48</td>\n",
              "      <td>1</td>\n",
              "    </tr>\n",
              "    <tr>\n",
              "      <th>4</th>\n",
              "      <td>2</td>\n",
              "      <td>1</td>\n",
              "      <td>48</td>\n",
              "      <td>0</td>\n",
              "    </tr>\n",
              "    <tr>\n",
              "      <th>...</th>\n",
              "      <td>...</td>\n",
              "      <td>...</td>\n",
              "      <td>...</td>\n",
              "      <td>...</td>\n",
              "    </tr>\n",
              "    <tr>\n",
              "      <th>886</th>\n",
              "      <td>1</td>\n",
              "      <td>1</td>\n",
              "      <td>35</td>\n",
              "      <td>0</td>\n",
              "    </tr>\n",
              "    <tr>\n",
              "      <th>887</th>\n",
              "      <td>0</td>\n",
              "      <td>0</td>\n",
              "      <td>24</td>\n",
              "      <td>1</td>\n",
              "    </tr>\n",
              "    <tr>\n",
              "      <th>888</th>\n",
              "      <td>2</td>\n",
              "      <td>0</td>\n",
              "      <td>39</td>\n",
              "      <td>0</td>\n",
              "    </tr>\n",
              "    <tr>\n",
              "      <th>889</th>\n",
              "      <td>0</td>\n",
              "      <td>1</td>\n",
              "      <td>34</td>\n",
              "      <td>1</td>\n",
              "    </tr>\n",
              "    <tr>\n",
              "      <th>890</th>\n",
              "      <td>2</td>\n",
              "      <td>1</td>\n",
              "      <td>43</td>\n",
              "      <td>0</td>\n",
              "    </tr>\n",
              "  </tbody>\n",
              "</table>\n",
              "<p>891 rows × 4 columns</p>\n",
              "</div>"
            ],
            "text/plain": [
              "     pclass  sex  age  survived\n",
              "0         2    1   28         0\n",
              "1         0    0   52         1\n",
              "2         2    0   34         1\n",
              "3         0    0   48         1\n",
              "4         2    1   48         0\n",
              "..      ...  ...  ...       ...\n",
              "886       1    1   35         0\n",
              "887       0    0   24         1\n",
              "888       2    0   39         0\n",
              "889       0    1   34         1\n",
              "890       2    1   43         0\n",
              "\n",
              "[891 rows x 4 columns]"
            ]
          },
          "metadata": {},
          "execution_count": 44
        }
      ]
    },
    {
      "cell_type": "markdown",
      "metadata": {
        "id": "9c65bb01"
      },
      "source": [
        "## Normalization"
      ],
      "id": "9c65bb01"
    },
    {
      "cell_type": "markdown",
      "metadata": {
        "id": "6ee0aedd"
      },
      "source": [
        "1. Z-score"
      ],
      "id": "6ee0aedd"
    },
    {
      "cell_type": "code",
      "metadata": {
        "id": "87f0e72a",
        "colab": {
          "base_uri": "https://localhost:8080/",
          "height": 423
        },
        "outputId": "9ffb4820-f82d-4c96-cdd1-5304fb14c4b4"
      },
      "source": [
        "from sklearn.preprocessing import StandardScaler\n",
        "\n",
        "std_scaler = StandardScaler()\n",
        "std_scaler\n",
        "data['age']= std_scaler.fit_transform(np.array(data['age']).reshape(-1,1))\n",
        "\n",
        "data"
      ],
      "id": "87f0e72a",
      "execution_count": 45,
      "outputs": [
        {
          "output_type": "execute_result",
          "data": {
            "text/html": [
              "<div>\n",
              "<style scoped>\n",
              "    .dataframe tbody tr th:only-of-type {\n",
              "        vertical-align: middle;\n",
              "    }\n",
              "\n",
              "    .dataframe tbody tr th {\n",
              "        vertical-align: top;\n",
              "    }\n",
              "\n",
              "    .dataframe thead th {\n",
              "        text-align: right;\n",
              "    }\n",
              "</style>\n",
              "<table border=\"1\" class=\"dataframe\">\n",
              "  <thead>\n",
              "    <tr style=\"text-align: right;\">\n",
              "      <th></th>\n",
              "      <th>pclass</th>\n",
              "      <th>sex</th>\n",
              "      <th>age</th>\n",
              "      <th>survived</th>\n",
              "    </tr>\n",
              "  </thead>\n",
              "  <tbody>\n",
              "    <tr>\n",
              "      <th>0</th>\n",
              "      <td>2</td>\n",
              "      <td>1</td>\n",
              "      <td>-0.673387</td>\n",
              "      <td>0</td>\n",
              "    </tr>\n",
              "    <tr>\n",
              "      <th>1</th>\n",
              "      <td>0</td>\n",
              "      <td>0</td>\n",
              "      <td>0.763709</td>\n",
              "      <td>1</td>\n",
              "    </tr>\n",
              "    <tr>\n",
              "      <th>2</th>\n",
              "      <td>2</td>\n",
              "      <td>0</td>\n",
              "      <td>-0.314113</td>\n",
              "      <td>1</td>\n",
              "    </tr>\n",
              "    <tr>\n",
              "      <th>3</th>\n",
              "      <td>0</td>\n",
              "      <td>0</td>\n",
              "      <td>0.524193</td>\n",
              "      <td>1</td>\n",
              "    </tr>\n",
              "    <tr>\n",
              "      <th>4</th>\n",
              "      <td>2</td>\n",
              "      <td>1</td>\n",
              "      <td>0.524193</td>\n",
              "      <td>0</td>\n",
              "    </tr>\n",
              "    <tr>\n",
              "      <th>...</th>\n",
              "      <td>...</td>\n",
              "      <td>...</td>\n",
              "      <td>...</td>\n",
              "      <td>...</td>\n",
              "    </tr>\n",
              "    <tr>\n",
              "      <th>886</th>\n",
              "      <td>1</td>\n",
              "      <td>1</td>\n",
              "      <td>-0.254234</td>\n",
              "      <td>0</td>\n",
              "    </tr>\n",
              "    <tr>\n",
              "      <th>887</th>\n",
              "      <td>0</td>\n",
              "      <td>0</td>\n",
              "      <td>-0.912903</td>\n",
              "      <td>1</td>\n",
              "    </tr>\n",
              "    <tr>\n",
              "      <th>888</th>\n",
              "      <td>2</td>\n",
              "      <td>0</td>\n",
              "      <td>-0.014718</td>\n",
              "      <td>0</td>\n",
              "    </tr>\n",
              "    <tr>\n",
              "      <th>889</th>\n",
              "      <td>0</td>\n",
              "      <td>1</td>\n",
              "      <td>-0.314113</td>\n",
              "      <td>1</td>\n",
              "    </tr>\n",
              "    <tr>\n",
              "      <th>890</th>\n",
              "      <td>2</td>\n",
              "      <td>1</td>\n",
              "      <td>0.224798</td>\n",
              "      <td>0</td>\n",
              "    </tr>\n",
              "  </tbody>\n",
              "</table>\n",
              "<p>891 rows × 4 columns</p>\n",
              "</div>"
            ],
            "text/plain": [
              "     pclass  sex       age  survived\n",
              "0         2    1 -0.673387         0\n",
              "1         0    0  0.763709         1\n",
              "2         2    0 -0.314113         1\n",
              "3         0    0  0.524193         1\n",
              "4         2    1  0.524193         0\n",
              "..      ...  ...       ...       ...\n",
              "886       1    1 -0.254234         0\n",
              "887       0    0 -0.912903         1\n",
              "888       2    0 -0.014718         0\n",
              "889       0    1 -0.314113         1\n",
              "890       2    1  0.224798         0\n",
              "\n",
              "[891 rows x 4 columns]"
            ]
          },
          "metadata": {},
          "execution_count": 45
        }
      ]
    },
    {
      "cell_type": "markdown",
      "metadata": {
        "id": "06b42f86"
      },
      "source": [
        "## Detect, Handle and Visualize Outliers"
      ],
      "id": "06b42f86"
    },
    {
      "cell_type": "code",
      "metadata": {
        "id": "e930994d",
        "colab": {
          "base_uri": "https://localhost:8080/",
          "height": 269
        },
        "outputId": "67af2a86-be9b-4986-e93c-7fa39f90a002"
      },
      "source": [
        "import seaborn as sns\n",
        "sns.boxplot(y=data['age'])"
      ],
      "id": "e930994d",
      "execution_count": 46,
      "outputs": [
        {
          "output_type": "execute_result",
          "data": {
            "text/plain": [
              "<matplotlib.axes._subplots.AxesSubplot at 0x7fadc4efae90>"
            ]
          },
          "metadata": {},
          "execution_count": 46
        },
        {
          "output_type": "display_data",
          "data": {
            "image/png": "[encoded data removed]",
            "text/plain": [
              "<Figure size 432x288 with 1 Axes>"
            ]
          },
          "metadata": {
            "needs_background": "light"
          }
        }
      ]
    },
    {
      "cell_type": "code",
      "metadata": {
        "id": "6303f67a",
        "colab": {
          "base_uri": "https://localhost:8080/",
          "height": 454
        },
        "outputId": "a1894e2f-eada-4060-e172-efb19c2e22ba"
      },
      "source": [
        "fig, ax = plt.subplots(figsize=(16,8))\n",
        "ax.scatter(data['survived'], data['age'])\n",
        "ax.set_xlabel('survived')\n",
        "ax.set_ylabel('age')\n",
        "plt.show()"
      ],
      "id": "6303f67a",
      "execution_count": 47,
      "outputs": [
        {
          "output_type": "display_data",
          "data": {
            "image/png": "[encoded data removed]",
            "text/plain": [
              "<Figure size 1152x576 with 1 Axes>"
            ]
          },
          "metadata": {
            "needs_background": "light"
          }
        }
      ]
    },
    {
      "cell_type": "code",
      "metadata": {
        "scrolled": false,
        "id": "0ea8fa06",
        "colab": {
          "base_uri": "https://localhost:8080/",
          "height": 993
        },
        "outputId": "f9b737dc-d721-4e75-80c0-1c4ce00fbff4"
      },
      "source": [
        "import matplotlib.pyplot as plt\n",
        "\n",
        "x = data.drop(\"survived\",1)\n",
        "columns_name = list(x.columns)\n",
        "\n",
        "for i in columns_name:\n",
        "    data.boxplot(by ='survived', column =[i], grid = False)"
      ],
      "id": "0ea8fa06",
      "execution_count": 48,
      "outputs": [
        {
          "output_type": "stream",
          "name": "stderr",
          "text": [
            "/usr/local/lib/python3.7/dist-packages/numpy/core/_asarray.py:83: VisibleDeprecationWarning: Creating an ndarray from ragged nested sequences (which is a list-or-tuple of lists-or-tuples-or ndarrays with different lengths or shapes) is deprecated. If you meant to do this, you must specify 'dtype=object' when creating the ndarray\n",
            "  return array(a, dtype, copy=False, order=order)\n",
            "/usr/local/lib/python3.7/dist-packages/numpy/core/_asarray.py:83: VisibleDeprecationWarning: Creating an ndarray from ragged nested sequences (which is a list-or-tuple of lists-or-tuples-or ndarrays with different lengths or shapes) is deprecated. If you meant to do this, you must specify 'dtype=object' when creating the ndarray\n",
            "  return array(a, dtype, copy=False, order=order)\n",
            "/usr/local/lib/python3.7/dist-packages/numpy/core/_asarray.py:83: VisibleDeprecationWarning: Creating an ndarray from ragged nested sequences (which is a list-or-tuple of lists-or-tuples-or ndarrays with different lengths or shapes) is deprecated. If you meant to do this, you must specify 'dtype=object' when creating the ndarray\n",
            "  return array(a, dtype, copy=False, order=order)\n"
          ]
        },
        {
          "output_type": "display_data",
          "data": {
            "image/png": "[encoded data removed]",
            "text/plain": [
              "<Figure size 432x288 with 1 Axes>"
            ]
          },
          "metadata": {
            "needs_background": "light"
          }
        },
        {
          "output_type": "display_data",
          "data": {
            "image/png": "[encoded data removed]",
            "text/plain": [
              "<Figure size 432x288 with 1 Axes>"
            ]
          },
          "metadata": {
            "needs_background": "light"
          }
        },
        {
          "output_type": "display_data",
          "data": {
            "image/png": "[encoded data removed]",
            "text/plain": [
              "<Figure size 432x288 with 1 Axes>"
            ]
          },
          "metadata": {
            "needs_background": "light"
          }
        }
      ]
    },
    {
      "cell_type": "code",
      "metadata": {
        "id": "917c500d",
        "colab": {
          "base_uri": "https://localhost:8080/"
        },
        "outputId": "c50c0b62-fc98-4a4c-9bf3-80a33ce331b5"
      },
      "source": [
        "from scipy import stats\n",
        "import numpy as np\n",
        "z = np.abs(stats.zscore(data['age']))\n",
        "print(z)\n",
        "\n",
        "threshold = 3\n",
        "print(np.where(z > threshold))\n",
        "print(z)"
      ],
      "id": "917c500d",
      "execution_count": 49,
      "outputs": [
        {
          "output_type": "stream",
          "name": "stdout",
          "text": [
            "[0.67338688 0.76370943 0.3141128  0.52419338 0.52419338 0.01471774\n",
            " 1.84153166 1.99072516 0.25423379 1.27217701 1.87096713 2.14092672\n",
            " 0.85302392 0.82358844 1.27217701 1.90141067 1.99072516 0.01471774\n",
            " 0.1649193  0.01471774 0.52419338 0.40443535 1.15241898 0.19435478\n",
            " 1.63145108 0.76370943 0.01471774 0.91290293 0.01471774 0.01471774\n",
            " 0.88346745 0.01471774 0.01471774 2.61995883 0.19435478 1.06310449\n",
            " 0.01471774 0.73326589 0.97278194 1.27217701 0.88346745 0.25423379\n",
            " 0.01471774 1.93084615 0.91290293 0.01471774 0.01471774 0.01471774\n",
            " 0.01471774 0.97278194 1.6913301  0.73326589 1.5421366  0.07459675\n",
            " 2.56007981 0.01471774 0.73326589 0.13447576 1.81108812 1.45181404\n",
            " 0.67338688 0.76370943 1.24274153 1.87096713 0.01471774 0.01471774\n",
            " 0.07459675 0.91290293 1.03266095 0.3141128  0.22479831 1.09253997\n",
            " 0.73326589 0.3141128  0.22479831 0.37399181 0.01471774 0.01471774\n",
            " 2.1703622  0.04516128 0.67338688 0.07459675 0.01471774 0.19435478\n",
            " 1.03266095 0.34455634 1.09253997 0.01471774 0.61350787 0.49374984\n",
            " 0.07459675 0.85302392 1.36249956 0.3141128  2.20080574 0.01471774\n",
            " 2.79959586 0.61350787 0.40443535 0.40443535 0.19435478 0.01471774\n",
            " 0.73326589 0.34455634 0.70383042 0.19435478 0.73326589 0.01471774\n",
            " 0.76370943 0.01471774 1.42237857 1.21229799 0.67338688 0.85302392\n",
            " 1.03266095 0.73326589 2.73971685 0.07459675 0.49374984 1.99072516\n",
            " 0.73326589 0.01471774 0.28467733 0.28467733 1.84153166 1.39193503\n",
            " 0.01471774 0.49374984 0.01471774 1.24274153 0.34455634 0.85302392\n",
            " 1.42237857 0.07459675 0.37399181 0.61350787 0.91290293 0.70383042\n",
            " 1.09253997 0.49374984 0.01471774 0.67338688 0.49374984 0.91290293\n",
            " 0.97278194 0.91290293 0.25423379 1.57157207 0.6439514  1.06310449\n",
            " 1.66189462 0.67338688 1.96128968 0.94334647 0.01471774 1.66189462\n",
            " 1.09253997 0.04516128 0.01471774 0.01471774 1.18286252 0.88346745\n",
            " 0.3141128  1.03266095 2.05060417 1.57157207 0.01471774 1.24274153\n",
            " 0.01471774 0.19435478 2.32056376 1.87096713 2.05060417 0.73326589\n",
            " 2.0211687  0.97278194 0.01471774 1.60201561 0.04516128 0.58407239\n",
            " 0.01471774 0.01471774 1.57157207 2.05060417 1.87096713 0.01471774\n",
            " 0.01471774 1.24274153 0.88346745 0.58407239 0.22479831 0.91290293\n",
            " 0.91290293 1.93084615 1.18286252 2.14092672 0.01471774 1.06310449\n",
            " 0.01471774 0.49374984 0.19435478 0.01471774 0.40443535 1.30262054\n",
            " 0.97278194 1.99072516 0.22479831 0.3141128  1.09253997 0.88346745\n",
            " 0.49374984 0.52419338 0.67338688 0.04516128 0.01471774 0.1649193\n",
            " 0.25423379 1.06310449 0.22479831 0.04516128 1.09253997 0.25423379\n",
            " 1.66189462 0.01471774 0.76370943 0.67338688 0.91290293 0.7931449\n",
            " 0.97278194 0.01471774 0.52419338 0.07459675 2.20080574 1.81108812\n",
            " 0.49374984 0.01471774 1.18286252 1.63145108 0.91290293 0.34455634\n",
            " 0.01471774 0.01471774 0.07459675 0.67338688 0.04516128 1.18286252\n",
            " 0.37399181 0.49374984 0.70383042 1.84153166 0.01471774 0.07459675\n",
            " 2.38044277 0.04516128 1.00322548 0.07459675 0.01471774 0.04516128\n",
            " 0.52419338 1.60201561 0.01471774 1.93084615 1.72177363 0.88346745\n",
            " 0.01471774 0.58407239 1.09253997 0.37399181 2.14092672 0.52419338\n",
            " 0.01471774 0.37399181 1.00322548 0.70383042 0.01471774 2.44032179\n",
            " 1.24274153 0.01471774 1.6913301  0.52419338 2.56007981 0.19435478\n",
            " 1.09253997 0.91290293 0.01471774 0.34455634 0.04516128 0.67338688\n",
            " 1.06310449 0.67338688 0.3141128  0.91290293 0.58407239 0.49374984\n",
            " 0.49374984 0.01471774 0.55362885 1.99072516 0.01471774 1.60201561\n",
            " 0.01471774 0.01471774 0.91290293 0.01471774 0.01471774 2.11048318\n",
            " 0.01471774 1.03266095 0.04516128 0.04516128 0.49374984 0.97278194\n",
            " 0.3141128  0.19435478 1.12298351 0.3141128  0.49374984 1.84153166\n",
            " 0.1649193  0.88346745 0.67338688 0.25423379 0.04516128 0.67338688\n",
            " 0.01471774 0.58407239 2.32056376 0.58407239 0.1649193  1.09253997\n",
            " 0.01471774 1.30262054 0.76370943 1.09253997 0.01471774 0.01471774\n",
            " 0.07459675 1.00322548 1.24274153 1.24274153 1.99072516 0.49374984\n",
            " 0.19435478 0.37399181 0.58407239 0.49374984 0.88346745 0.01471774\n",
            " 1.93084615 1.06310449 0.61350787 0.01471774 1.15241898 0.37399181\n",
            " 0.01471774 0.19435478 0.67338688 0.76370943 0.01471774 0.01471774\n",
            " 0.88346745 0.07459675 1.24274153 0.52419338 0.01471774 0.04516128\n",
            " 2.26068475 0.01471774 0.01471774 0.49374984 0.37399181 0.97278194\n",
            " 0.91290293 0.67338688 1.93084615 0.01471774 0.67338688 0.25423379\n",
            " 0.85302392 0.91290293 1.06310449 2.05060417 0.22479831 0.52419338\n",
            " 0.01471774 0.97278194 2.05060417 0.58407239 0.01471774 1.03266095\n",
            " 0.58407239 0.73326589 0.19435478 0.61350787 0.49374984 0.67338688\n",
            " 0.1649193  1.36249956 0.61350787 0.19435478 0.82358844 0.3141128\n",
            " 0.73326589 0.19435478 0.85302392 0.40443535 1.66189462 1.93084615\n",
            " 0.73326589 0.01471774 0.01471774 0.01471774 0.34455634 0.01471774\n",
            " 1.18286252 0.01471774 0.40443535 0.97278194 0.04516128 1.51169306\n",
            " 0.01471774 0.73326589 0.07459675 0.19435478 0.97278194 0.01471774\n",
            " 0.19435478 0.91290293 0.01471774 0.22479831 0.19435478 0.01471774\n",
            " 1.06310449 1.03266095 1.60201561 1.27217701 0.73326589 0.49374984\n",
            " 2.5002008  0.1649193  1.24274153 0.85302392 0.37399181 0.19435478\n",
            " 0.01471774 1.87096713 1.33205602 0.40443535 1.81108812 1.72177363\n",
            " 0.58407239 0.01471774 0.04516128 1.5421366  0.01471774 0.07459675\n",
            " 2.56007981 0.01471774 1.60201561 0.01471774 1.48225758 0.40443535\n",
            " 1.42237857 1.48225758 0.01471774 0.76370943 0.01471774 2.0211687\n",
            " 0.01471774 2.23024121 0.01471774 0.76370943 0.34455634 0.61350787\n",
            " 0.67338688 0.01471774 0.40443535 0.07459675 0.67338688 1.99072516\n",
            " 1.57157207 0.01471774 1.60201561 2.44032179 0.37399181 0.01471774\n",
            " 0.52419338 2.14092672 0.04516128 1.57157207 0.01471774 0.73326589\n",
            " 1.90141067 2.79959586 0.73326589 0.01471774 1.84153166 0.01471774\n",
            " 0.37399181 0.49374984 1.03266095 0.73326589 0.01471774 0.70383042\n",
            " 1.09253997 0.97278194 0.34455634 0.01471774 0.19435478 0.3141128\n",
            " 0.07459675 0.01471774 0.58407239 1.84153166 0.49374984 1.42237857\n",
            " 0.40443535 0.01471774 0.58407239 0.22479831 0.04516128 0.67338688\n",
            " 0.01471774 1.18286252 0.01471774 0.94334647 1.60201561 0.01471774\n",
            " 0.82358844 0.61350787 1.99072516 0.01471774 1.03266095 0.01471774\n",
            " 0.04516128 1.6913301  1.24274153 0.04516128 0.01471774 0.67338688\n",
            " 0.58407239 1.57157207 1.45181404 0.22479831 1.60201561 2.5002008\n",
            " 0.91290293 0.01471774 0.34455634 1.63145108 1.03266095 0.25423379\n",
            " 0.01471774 0.67338688 0.67338688 2.38044277 1.48225758 0.01471774\n",
            " 0.82358844 0.58407239 0.01471774 0.88346745 0.19435478 0.01471774\n",
            " 0.01471774 0.49374984 0.91290293 0.07459675 0.01471774 0.22479831\n",
            " 2.38044277 1.78165265 0.58407239 0.01471774 1.09253997 0.91290293\n",
            " 0.40443535 0.82358844 0.01471774 0.22479831 0.37399181 0.82358844\n",
            " 1.84153166 0.58407239 0.01471774 0.97278194 1.42237857 2.26068475\n",
            " 0.67338688 0.01471774 0.52419338 1.72177363 1.42237857 0.01471774\n",
            " 0.70383042 0.58407239 0.01471774 1.5421366  0.01471774 1.5421366\n",
            " 0.49374984 0.01471774 0.01471774 1.18286252 0.52419338 0.58407239\n",
            " 0.04516128 0.25423379 0.67338688 0.88346745 0.82358844 0.01471774\n",
            " 0.01471774 0.01471774 0.52419338 0.49374984 0.40443535 0.3141128\n",
            " 1.87096713 0.3141128  0.25423379 1.06310449 0.85302392 0.73326589\n",
            " 0.73326589 2.32056376 2.08104771 0.73326589 0.3141128  0.01471774\n",
            " 2.91935389 1.66189462 0.22479831 0.01471774 1.57157207 0.19435478\n",
            " 0.22479831 0.1649193  1.00322548 0.01471774 0.85302392 0.49374984\n",
            " 1.99072516 0.01471774 2.23024121 1.48225758 0.91290293 2.0211687\n",
            " 0.01471774 0.61350787 0.01471774 0.97278194 0.73326589 0.01471774\n",
            " 0.97278194 0.49374984 0.01471774 0.22479831 0.61350787 2.14092672\n",
            " 1.60201561 0.88346745 1.42237857 0.58407239 0.85302392 0.22479831\n",
            " 0.37399181 0.01471774 1.12298351 0.01471774 0.88346745 0.1649193\n",
            " 2.67983784 0.1649193  0.01471774 0.97278194 0.43387083 0.97278194\n",
            " 1.12298351 0.58407239 0.01471774 0.25423379 0.85302392 1.27217701\n",
            " 2.26068475 0.37399181 1.27217701 0.91290293 0.97278194 1.15241898\n",
            " 0.1649193  1.87096713 0.01471774 0.37399181 2.26068475 1.72177363\n",
            " 1.18286252 0.01471774 1.5421366  1.06310449 0.97278194 0.52419338\n",
            " 0.97278194 0.37399181 0.3141128  0.82358844 1.24274153 1.06310449\n",
            " 0.67338688 0.01471774 0.49374984 0.01471774 1.48225758 0.07459675\n",
            " 1.72177363 0.91290293 0.76370943 0.25423379 0.01471774 0.34455634\n",
            " 1.75120911 1.03266095 0.40443535 1.60201561 0.25423379 0.85302392\n",
            " 0.04516128 0.01471774 0.37399181 0.37399181 0.07459675 1.45181404\n",
            " 0.01471774 0.61350787 0.61350787 0.13447576 1.48225758 0.52419338\n",
            " 0.01471774 0.01471774 0.01471774 0.58407239 0.73326589 0.49374984\n",
            " 0.1649193  2.67983784 1.09253997 0.04516128 0.91290293 0.1649193\n",
            " 1.87096713 1.75120911 0.34455634 0.61350787 1.48225758 2.29012022\n",
            " 0.19435478 0.97278194 0.40443535 0.34455634 0.01471774 1.00322548\n",
            " 0.85302392 0.58407239 1.09253997 1.66189462 0.01471774 0.10504029\n",
            " 0.01471774 0.22479831 0.49374984 1.48225758 2.08104771 0.01471774\n",
            " 1.84153166 0.97278194 0.01471774 1.81108812 0.01471774 1.12298351\n",
            " 1.33205602 1.03266095 0.07459675 0.01471774 0.37399181 0.37399181\n",
            " 0.97278194 1.63145108 2.05060417 1.36249956 0.01471774 1.09253997\n",
            " 0.01471774 0.01471774 0.37399181 0.82358844 1.5421366  0.1649193\n",
            " 0.04516128 0.04516128 0.40443535 0.1649193  1.45181404 2.34999924\n",
            " 0.25423379 0.1649193  0.82358844 0.97278194 0.82358844 0.34455634\n",
            " 0.3141128  0.82358844 0.52419338 1.75120911 0.10504029 0.01471774\n",
            " 0.61350787 0.1649193  1.12298351 1.51169306 1.72177363 0.25423379\n",
            " 0.76370943 0.25423379 1.99072516 0.01471774 0.01471774 2.05060417\n",
            " 0.01471774 2.38044277 1.15241898 2.1703622  0.01471774 0.61350787\n",
            " 0.97278194 0.82358844 0.73326589 0.01471774 0.22479831 0.01471774\n",
            " 0.85302392 1.09253997 0.04516128 0.46431437 1.03266095 1.06310449\n",
            " 0.01471774 0.52419338 0.19435478 0.01471774 1.87096713 2.85947488\n",
            " 1.57157207 1.09253997 1.18286252 0.97278194 1.24274153 1.66189462\n",
            " 0.49374984 0.01471774 1.00322548 0.73326589 1.48225758 0.01471774\n",
            " 0.49374984 1.06310449 0.25423379 0.1649193  0.01471774 1.87096713\n",
            " 0.3141128  1.42237857 0.34455634 1.42237857 0.19435478 1.15241898\n",
            " 0.85302392 0.91290293 0.01471774 2.0211687  0.37399181 0.34455634\n",
            " 0.67338688 0.19435478 0.37399181 0.82358844 0.25423379 0.91290293\n",
            " 0.01471774 0.3141128  0.22479831]\n",
            "(array([], dtype=int64),)\n",
            "[0.67338688 0.76370943 0.3141128  0.52419338 0.52419338 0.01471774\n",
            " 1.84153166 1.99072516 0.25423379 1.27217701 1.87096713 2.14092672\n",
            " 0.85302392 0.82358844 1.27217701 1.90141067 1.99072516 0.01471774\n",
            " 0.1649193  0.01471774 0.52419338 0.40443535 1.15241898 0.19435478\n",
            " 1.63145108 0.76370943 0.01471774 0.91290293 0.01471774 0.01471774\n",
            " 0.88346745 0.01471774 0.01471774 2.61995883 0.19435478 1.06310449\n",
            " 0.01471774 0.73326589 0.97278194 1.27217701 0.88346745 0.25423379\n",
            " 0.01471774 1.93084615 0.91290293 0.01471774 0.01471774 0.01471774\n",
            " 0.01471774 0.97278194 1.6913301  0.73326589 1.5421366  0.07459675\n",
            " 2.56007981 0.01471774 0.73326589 0.13447576 1.81108812 1.45181404\n",
            " 0.67338688 0.76370943 1.24274153 1.87096713 0.01471774 0.01471774\n",
            " 0.07459675 0.91290293 1.03266095 0.3141128  0.22479831 1.09253997\n",
            " 0.73326589 0.3141128  0.22479831 0.37399181 0.01471774 0.01471774\n",
            " 2.1703622  0.04516128 0.67338688 0.07459675 0.01471774 0.19435478\n",
            " 1.03266095 0.34455634 1.09253997 0.01471774 0.61350787 0.49374984\n",
            " 0.07459675 0.85302392 1.36249956 0.3141128  2.20080574 0.01471774\n",
            " 2.79959586 0.61350787 0.40443535 0.40443535 0.19435478 0.01471774\n",
            " 0.73326589 0.34455634 0.70383042 0.19435478 0.73326589 0.01471774\n",
            " 0.76370943 0.01471774 1.42237857 1.21229799 0.67338688 0.85302392\n",
            " 1.03266095 0.73326589 2.73971685 0.07459675 0.49374984 1.99072516\n",
            " 0.73326589 0.01471774 0.28467733 0.28467733 1.84153166 1.39193503\n",
            " 0.01471774 0.49374984 0.01471774 1.24274153 0.34455634 0.85302392\n",
            " 1.42237857 0.07459675 0.37399181 0.61350787 0.91290293 0.70383042\n",
            " 1.09253997 0.49374984 0.01471774 0.67338688 0.49374984 0.91290293\n",
            " 0.97278194 0.91290293 0.25423379 1.57157207 0.6439514  1.06310449\n",
            " 1.66189462 0.67338688 1.96128968 0.94334647 0.01471774 1.66189462\n",
            " 1.09253997 0.04516128 0.01471774 0.01471774 1.18286252 0.88346745\n",
            " 0.3141128  1.03266095 2.05060417 1.57157207 0.01471774 1.24274153\n",
            " 0.01471774 0.19435478 2.32056376 1.87096713 2.05060417 0.73326589\n",
            " 2.0211687  0.97278194 0.01471774 1.60201561 0.04516128 0.58407239\n",
            " 0.01471774 0.01471774 1.57157207 2.05060417 1.87096713 0.01471774\n",
            " 0.01471774 1.24274153 0.88346745 0.58407239 0.22479831 0.91290293\n",
            " 0.91290293 1.93084615 1.18286252 2.14092672 0.01471774 1.06310449\n",
            " 0.01471774 0.49374984 0.19435478 0.01471774 0.40443535 1.30262054\n",
            " 0.97278194 1.99072516 0.22479831 0.3141128  1.09253997 0.88346745\n",
            " 0.49374984 0.52419338 0.67338688 0.04516128 0.01471774 0.1649193\n",
            " 0.25423379 1.06310449 0.22479831 0.04516128 1.09253997 0.25423379\n",
            " 1.66189462 0.01471774 0.76370943 0.67338688 0.91290293 0.7931449\n",
            " 0.97278194 0.01471774 0.52419338 0.07459675 2.20080574 1.81108812\n",
            " 0.49374984 0.01471774 1.18286252 1.63145108 0.91290293 0.34455634\n",
            " 0.01471774 0.01471774 0.07459675 0.67338688 0.04516128 1.18286252\n",
            " 0.37399181 0.49374984 0.70383042 1.84153166 0.01471774 0.07459675\n",
            " 2.38044277 0.04516128 1.00322548 0.07459675 0.01471774 0.04516128\n",
            " 0.52419338 1.60201561 0.01471774 1.93084615 1.72177363 0.88346745\n",
            " 0.01471774 0.58407239 1.09253997 0.37399181 2.14092672 0.52419338\n",
            " 0.01471774 0.37399181 1.00322548 0.70383042 0.01471774 2.44032179\n",
            " 1.24274153 0.01471774 1.6913301  0.52419338 2.56007981 0.19435478\n",
            " 1.09253997 0.91290293 0.01471774 0.34455634 0.04516128 0.67338688\n",
            " 1.06310449 0.67338688 0.3141128  0.91290293 0.58407239 0.49374984\n",
            " 0.49374984 0.01471774 0.55362885 1.99072516 0.01471774 1.60201561\n",
            " 0.01471774 0.01471774 0.91290293 0.01471774 0.01471774 2.11048318\n",
            " 0.01471774 1.03266095 0.04516128 0.04516128 0.49374984 0.97278194\n",
            " 0.3141128  0.19435478 1.12298351 0.3141128  0.49374984 1.84153166\n",
            " 0.1649193  0.88346745 0.67338688 0.25423379 0.04516128 0.67338688\n",
            " 0.01471774 0.58407239 2.32056376 0.58407239 0.1649193  1.09253997\n",
            " 0.01471774 1.30262054 0.76370943 1.09253997 0.01471774 0.01471774\n",
            " 0.07459675 1.00322548 1.24274153 1.24274153 1.99072516 0.49374984\n",
            " 0.19435478 0.37399181 0.58407239 0.49374984 0.88346745 0.01471774\n",
            " 1.93084615 1.06310449 0.61350787 0.01471774 1.15241898 0.37399181\n",
            " 0.01471774 0.19435478 0.67338688 0.76370943 0.01471774 0.01471774\n",
            " 0.88346745 0.07459675 1.24274153 0.52419338 0.01471774 0.04516128\n",
            " 2.26068475 0.01471774 0.01471774 0.49374984 0.37399181 0.97278194\n",
            " 0.91290293 0.67338688 1.93084615 0.01471774 0.67338688 0.25423379\n",
            " 0.85302392 0.91290293 1.06310449 2.05060417 0.22479831 0.52419338\n",
            " 0.01471774 0.97278194 2.05060417 0.58407239 0.01471774 1.03266095\n",
            " 0.58407239 0.73326589 0.19435478 0.61350787 0.49374984 0.67338688\n",
            " 0.1649193  1.36249956 0.61350787 0.19435478 0.82358844 0.3141128\n",
            " 0.73326589 0.19435478 0.85302392 0.40443535 1.66189462 1.93084615\n",
            " 0.73326589 0.01471774 0.01471774 0.01471774 0.34455634 0.01471774\n",
            " 1.18286252 0.01471774 0.40443535 0.97278194 0.04516128 1.51169306\n",
            " 0.01471774 0.73326589 0.07459675 0.19435478 0.97278194 0.01471774\n",
            " 0.19435478 0.91290293 0.01471774 0.22479831 0.19435478 0.01471774\n",
            " 1.06310449 1.03266095 1.60201561 1.27217701 0.73326589 0.49374984\n",
            " 2.5002008  0.1649193  1.24274153 0.85302392 0.37399181 0.19435478\n",
            " 0.01471774 1.87096713 1.33205602 0.40443535 1.81108812 1.72177363\n",
            " 0.58407239 0.01471774 0.04516128 1.5421366  0.01471774 0.07459675\n",
            " 2.56007981 0.01471774 1.60201561 0.01471774 1.48225758 0.40443535\n",
            " 1.42237857 1.48225758 0.01471774 0.76370943 0.01471774 2.0211687\n",
            " 0.01471774 2.23024121 0.01471774 0.76370943 0.34455634 0.61350787\n",
            " 0.67338688 0.01471774 0.40443535 0.07459675 0.67338688 1.99072516\n",
            " 1.57157207 0.01471774 1.60201561 2.44032179 0.37399181 0.01471774\n",
            " 0.52419338 2.14092672 0.04516128 1.57157207 0.01471774 0.73326589\n",
            " 1.90141067 2.79959586 0.73326589 0.01471774 1.84153166 0.01471774\n",
            " 0.37399181 0.49374984 1.03266095 0.73326589 0.01471774 0.70383042\n",
            " 1.09253997 0.97278194 0.34455634 0.01471774 0.19435478 0.3141128\n",
            " 0.07459675 0.01471774 0.58407239 1.84153166 0.49374984 1.42237857\n",
            " 0.40443535 0.01471774 0.58407239 0.22479831 0.04516128 0.67338688\n",
            " 0.01471774 1.18286252 0.01471774 0.94334647 1.60201561 0.01471774\n",
            " 0.82358844 0.61350787 1.99072516 0.01471774 1.03266095 0.01471774\n",
            " 0.04516128 1.6913301  1.24274153 0.04516128 0.01471774 0.67338688\n",
            " 0.58407239 1.57157207 1.45181404 0.22479831 1.60201561 2.5002008\n",
            " 0.91290293 0.01471774 0.34455634 1.63145108 1.03266095 0.25423379\n",
            " 0.01471774 0.67338688 0.67338688 2.38044277 1.48225758 0.01471774\n",
            " 0.82358844 0.58407239 0.01471774 0.88346745 0.19435478 0.01471774\n",
            " 0.01471774 0.49374984 0.91290293 0.07459675 0.01471774 0.22479831\n",
            " 2.38044277 1.78165265 0.58407239 0.01471774 1.09253997 0.91290293\n",
            " 0.40443535 0.82358844 0.01471774 0.22479831 0.37399181 0.82358844\n",
            " 1.84153166 0.58407239 0.01471774 0.97278194 1.42237857 2.26068475\n",
            " 0.67338688 0.01471774 0.52419338 1.72177363 1.42237857 0.01471774\n",
            " 0.70383042 0.58407239 0.01471774 1.5421366  0.01471774 1.5421366\n",
            " 0.49374984 0.01471774 0.01471774 1.18286252 0.52419338 0.58407239\n",
            " 0.04516128 0.25423379 0.67338688 0.88346745 0.82358844 0.01471774\n",
            " 0.01471774 0.01471774 0.52419338 0.49374984 0.40443535 0.3141128\n",
            " 1.87096713 0.3141128  0.25423379 1.06310449 0.85302392 0.73326589\n",
            " 0.73326589 2.32056376 2.08104771 0.73326589 0.3141128  0.01471774\n",
            " 2.91935389 1.66189462 0.22479831 0.01471774 1.57157207 0.19435478\n",
            " 0.22479831 0.1649193  1.00322548 0.01471774 0.85302392 0.49374984\n",
            " 1.99072516 0.01471774 2.23024121 1.48225758 0.91290293 2.0211687\n",
            " 0.01471774 0.61350787 0.01471774 0.97278194 0.73326589 0.01471774\n",
            " 0.97278194 0.49374984 0.01471774 0.22479831 0.61350787 2.14092672\n",
            " 1.60201561 0.88346745 1.42237857 0.58407239 0.85302392 0.22479831\n",
            " 0.37399181 0.01471774 1.12298351 0.01471774 0.88346745 0.1649193\n",
            " 2.67983784 0.1649193  0.01471774 0.97278194 0.43387083 0.97278194\n",
            " 1.12298351 0.58407239 0.01471774 0.25423379 0.85302392 1.27217701\n",
            " 2.26068475 0.37399181 1.27217701 0.91290293 0.97278194 1.15241898\n",
            " 0.1649193  1.87096713 0.01471774 0.37399181 2.26068475 1.72177363\n",
            " 1.18286252 0.01471774 1.5421366  1.06310449 0.97278194 0.52419338\n",
            " 0.97278194 0.37399181 0.3141128  0.82358844 1.24274153 1.06310449\n",
            " 0.67338688 0.01471774 0.49374984 0.01471774 1.48225758 0.07459675\n",
            " 1.72177363 0.91290293 0.76370943 0.25423379 0.01471774 0.34455634\n",
            " 1.75120911 1.03266095 0.40443535 1.60201561 0.25423379 0.85302392\n",
            " 0.04516128 0.01471774 0.37399181 0.37399181 0.07459675 1.45181404\n",
            " 0.01471774 0.61350787 0.61350787 0.13447576 1.48225758 0.52419338\n",
            " 0.01471774 0.01471774 0.01471774 0.58407239 0.73326589 0.49374984\n",
            " 0.1649193  2.67983784 1.09253997 0.04516128 0.91290293 0.1649193\n",
            " 1.87096713 1.75120911 0.34455634 0.61350787 1.48225758 2.29012022\n",
            " 0.19435478 0.97278194 0.40443535 0.34455634 0.01471774 1.00322548\n",
            " 0.85302392 0.58407239 1.09253997 1.66189462 0.01471774 0.10504029\n",
            " 0.01471774 0.22479831 0.49374984 1.48225758 2.08104771 0.01471774\n",
            " 1.84153166 0.97278194 0.01471774 1.81108812 0.01471774 1.12298351\n",
            " 1.33205602 1.03266095 0.07459675 0.01471774 0.37399181 0.37399181\n",
            " 0.97278194 1.63145108 2.05060417 1.36249956 0.01471774 1.09253997\n",
            " 0.01471774 0.01471774 0.37399181 0.82358844 1.5421366  0.1649193\n",
            " 0.04516128 0.04516128 0.40443535 0.1649193  1.45181404 2.34999924\n",
            " 0.25423379 0.1649193  0.82358844 0.97278194 0.82358844 0.34455634\n",
            " 0.3141128  0.82358844 0.52419338 1.75120911 0.10504029 0.01471774\n",
            " 0.61350787 0.1649193  1.12298351 1.51169306 1.72177363 0.25423379\n",
            " 0.76370943 0.25423379 1.99072516 0.01471774 0.01471774 2.05060417\n",
            " 0.01471774 2.38044277 1.15241898 2.1703622  0.01471774 0.61350787\n",
            " 0.97278194 0.82358844 0.73326589 0.01471774 0.22479831 0.01471774\n",
            " 0.85302392 1.09253997 0.04516128 0.46431437 1.03266095 1.06310449\n",
            " 0.01471774 0.52419338 0.19435478 0.01471774 1.87096713 2.85947488\n",
            " 1.57157207 1.09253997 1.18286252 0.97278194 1.24274153 1.66189462\n",
            " 0.49374984 0.01471774 1.00322548 0.73326589 1.48225758 0.01471774\n",
            " 0.49374984 1.06310449 0.25423379 0.1649193  0.01471774 1.87096713\n",
            " 0.3141128  1.42237857 0.34455634 1.42237857 0.19435478 1.15241898\n",
            " 0.85302392 0.91290293 0.01471774 2.0211687  0.37399181 0.34455634\n",
            " 0.67338688 0.19435478 0.37399181 0.82358844 0.25423379 0.91290293\n",
            " 0.01471774 0.3141128  0.22479831]\n"
          ]
        }
      ]
    },
    {
      "cell_type": "code",
      "metadata": {
        "id": "944e2fc9",
        "colab": {
          "base_uri": "https://localhost:8080/"
        },
        "outputId": "275b6bfc-ca01-4a0a-d364-ae6fc80e6529"
      },
      "source": [
        "Q1 = data.quantile(0.25)\n",
        "Q3 = data.quantile(0.75)\n",
        "IQR = Q3 - Q1\n",
        "print(IQR)"
      ],
      "id": "944e2fc9",
      "execution_count": 50,
      "outputs": [
        {
          "output_type": "stream",
          "name": "stdout",
          "text": [
            "pclass      1.00000\n",
            "sex         1.00000\n",
            "age         1.19758\n",
            "survived    1.00000\n",
            "dtype: float64\n"
          ]
        }
      ]
    },
    {
      "cell_type": "code",
      "metadata": {
        "id": "54e8b928",
        "colab": {
          "base_uri": "https://localhost:8080/"
        },
        "outputId": "54ef25e5-787c-4431-ae6c-111f1c3de5f5"
      },
      "source": [
        "print(data.shape)"
      ],
      "id": "54e8b928",
      "execution_count": 51,
      "outputs": [
        {
          "output_type": "stream",
          "name": "stdout",
          "text": [
            "(891, 4)\n"
          ]
        }
      ]
    },
    {
      "cell_type": "code",
      "metadata": {
        "id": "4d5dea94",
        "colab": {
          "base_uri": "https://localhost:8080/"
        },
        "outputId": "f9e13b0e-6926-48ee-d520-3110ab1edc80"
      },
      "source": [
        "df_out = data[~((data < (Q1 - 1.5 * IQR)) |(data > (Q3 + 1.5 * IQR))).any(axis=1)]\n",
        "print(df_out.shape)"
      ],
      "id": "4d5dea94",
      "execution_count": 52,
      "outputs": [
        {
          "output_type": "stream",
          "name": "stdout",
          "text": [
            "(872, 4)\n"
          ]
        }
      ]
    },
    {
      "cell_type": "code",
      "metadata": {
        "id": "3f3b4f98",
        "colab": {
          "base_uri": "https://localhost:8080/",
          "height": 454
        },
        "outputId": "7ba35f94-cd5c-4742-b2b7-2b497b310d68"
      },
      "source": [
        "fig, ax = plt.subplots(figsize=(16,8))\n",
        "ax.scatter(df_out['survived'], df_out['age'])\n",
        "ax.set_xlabel('survived')\n",
        "ax.set_ylabel('age')\n",
        "plt.show()"
      ],
      "id": "3f3b4f98",
      "execution_count": 53,
      "outputs": [
        {
          "output_type": "display_data",
          "data": {
            "image/png": "[encoded data removed]",
            "text/plain": [
              "<Figure size 1152x576 with 1 Axes>"
            ]
          },
          "metadata": {
            "needs_background": "light"
          }
        }
      ]
    },
    {
      "cell_type": "code",
      "metadata": {
        "scrolled": true,
        "id": "61df0b6c",
        "colab": {
          "base_uri": "https://localhost:8080/",
          "height": 283
        },
        "outputId": "85363e3c-9275-4165-c554-13409268e053"
      },
      "source": [
        "# Plot data untuk melihat perbandingan class bernilai survived atau tidak\n",
        "survived_map= {0:'Not Survived', 1:'Survived'}\n",
        "\n",
        "data['survived'].map(survived_map).value_counts().plot(kind='pie', subplots=True)"
      ],
      "id": "61df0b6c",
      "execution_count": 54,
      "outputs": [
        {
          "output_type": "execute_result",
          "data": {
            "text/plain": [
              "array([<matplotlib.axes._subplots.AxesSubplot object at 0x7fadc4ca4250>],\n",
              "      dtype=object)"
            ]
          },
          "metadata": {},
          "execution_count": 54
        },
        {
          "output_type": "display_data",
          "data": {
            "image/png": "[encoded data removed]",
            "text/plain": [
              "<Figure size 432x288 with 1 Axes>"
            ]
          },
          "metadata": {}
        }
      ]
    },
    {
      "cell_type": "markdown",
      "metadata": {
        "id": "7ba6c68d"
      },
      "source": [
        "## Resampling"
      ],
      "id": "7ba6c68d"
    },
    {
      "cell_type": "code",
      "metadata": {
        "id": "00c7b1d9",
        "colab": {
          "base_uri": "https://localhost:8080/"
        },
        "outputId": "e6134eae-72ca-4a95-8f78-282b5ad2b87f"
      },
      "source": [
        "X= data.drop('survived', axis='columns')\n",
        "y= data['survived']\n",
        "\n",
        "print(Counter(y))"
      ],
      "id": "00c7b1d9",
      "execution_count": 55,
      "outputs": [
        {
          "output_type": "stream",
          "name": "stdout",
          "text": [
            "Counter({0: 549, 1: 342})\n"
          ]
        }
      ]
    },
    {
      "cell_type": "markdown",
      "metadata": {
        "id": "39700d7f"
      },
      "source": [
        "#### A. Oversampling"
      ],
      "id": "39700d7f"
    },
    {
      "cell_type": "code",
      "metadata": {
        "id": "54f99226",
        "colab": {
          "base_uri": "https://localhost:8080/"
        },
        "outputId": "ace762dd-2d57-4cee-fd00-d50172bc7f21"
      },
      "source": [
        "# instantiating the random oversampler \n",
        "ros = RandomOverSampler()\n",
        "# resampling X, y\n",
        "X_ros, y_ros = ros.fit_resample(X, y)\n",
        "\n",
        "# new class distribution \n",
        "print(Counter(y_ros))"
      ],
      "id": "54f99226",
      "execution_count": 56,
      "outputs": [
        {
          "output_type": "stream",
          "name": "stdout",
          "text": [
            "Counter({0: 549, 1: 549})\n"
          ]
        },
        {
          "output_type": "stream",
          "name": "stderr",
          "text": [
            "/usr/local/lib/python3.7/dist-packages/sklearn/utils/deprecation.py:87: FutureWarning: Function safe_indexing is deprecated; safe_indexing is deprecated in version 0.22 and will be removed in version 0.24.\n",
            "  warnings.warn(msg, category=FutureWarning)\n"
          ]
        }
      ]
    },
    {
      "cell_type": "code",
      "metadata": {
        "id": "f3219ec6",
        "colab": {
          "base_uri": "https://localhost:8080/",
          "height": 423
        },
        "outputId": "7df5a09d-8915-4118-c004-b691132f50ed"
      },
      "source": [
        "over_sampled_data= pd.concat([pd.DataFrame(X_ros), pd.Series(y_ros)], axis='columns')\n",
        "over_sampled_data.columns= data.columns\n",
        "over_sampled_data"
      ],
      "id": "f3219ec6",
      "execution_count": 57,
      "outputs": [
        {
          "output_type": "execute_result",
          "data": {
            "text/html": [
              "<div>\n",
              "<style scoped>\n",
              "    .dataframe tbody tr th:only-of-type {\n",
              "        vertical-align: middle;\n",
              "    }\n",
              "\n",
              "    .dataframe tbody tr th {\n",
              "        vertical-align: top;\n",
              "    }\n",
              "\n",
              "    .dataframe thead th {\n",
              "        text-align: right;\n",
              "    }\n",
              "</style>\n",
              "<table border=\"1\" class=\"dataframe\">\n",
              "  <thead>\n",
              "    <tr style=\"text-align: right;\">\n",
              "      <th></th>\n",
              "      <th>pclass</th>\n",
              "      <th>sex</th>\n",
              "      <th>age</th>\n",
              "      <th>survived</th>\n",
              "    </tr>\n",
              "  </thead>\n",
              "  <tbody>\n",
              "    <tr>\n",
              "      <th>0</th>\n",
              "      <td>2.0</td>\n",
              "      <td>1.0</td>\n",
              "      <td>-0.673387</td>\n",
              "      <td>0</td>\n",
              "    </tr>\n",
              "    <tr>\n",
              "      <th>1</th>\n",
              "      <td>0.0</td>\n",
              "      <td>0.0</td>\n",
              "      <td>0.763709</td>\n",
              "      <td>1</td>\n",
              "    </tr>\n",
              "    <tr>\n",
              "      <th>2</th>\n",
              "      <td>2.0</td>\n",
              "      <td>0.0</td>\n",
              "      <td>-0.314113</td>\n",
              "      <td>1</td>\n",
              "    </tr>\n",
              "    <tr>\n",
              "      <th>3</th>\n",
              "      <td>0.0</td>\n",
              "      <td>0.0</td>\n",
              "      <td>0.524193</td>\n",
              "      <td>1</td>\n",
              "    </tr>\n",
              "    <tr>\n",
              "      <th>4</th>\n",
              "      <td>2.0</td>\n",
              "      <td>1.0</td>\n",
              "      <td>0.524193</td>\n",
              "      <td>0</td>\n",
              "    </tr>\n",
              "    <tr>\n",
              "      <th>...</th>\n",
              "      <td>...</td>\n",
              "      <td>...</td>\n",
              "      <td>...</td>\n",
              "      <td>...</td>\n",
              "    </tr>\n",
              "    <tr>\n",
              "      <th>1093</th>\n",
              "      <td>1.0</td>\n",
              "      <td>0.0</td>\n",
              "      <td>0.404435</td>\n",
              "      <td>1</td>\n",
              "    </tr>\n",
              "    <tr>\n",
              "      <th>1094</th>\n",
              "      <td>2.0</td>\n",
              "      <td>0.0</td>\n",
              "      <td>-0.912903</td>\n",
              "      <td>1</td>\n",
              "    </tr>\n",
              "    <tr>\n",
              "      <th>1095</th>\n",
              "      <td>0.0</td>\n",
              "      <td>0.0</td>\n",
              "      <td>-1.032661</td>\n",
              "      <td>1</td>\n",
              "    </tr>\n",
              "    <tr>\n",
              "      <th>1096</th>\n",
              "      <td>0.0</td>\n",
              "      <td>0.0</td>\n",
              "      <td>0.344556</td>\n",
              "      <td>1</td>\n",
              "    </tr>\n",
              "    <tr>\n",
              "      <th>1097</th>\n",
              "      <td>2.0</td>\n",
              "      <td>0.0</td>\n",
              "      <td>-0.014718</td>\n",
              "      <td>1</td>\n",
              "    </tr>\n",
              "  </tbody>\n",
              "</table>\n",
              "<p>1098 rows × 4 columns</p>\n",
              "</div>"
            ],
            "text/plain": [
              "      pclass  sex       age  survived\n",
              "0        2.0  1.0 -0.673387         0\n",
              "1        0.0  0.0  0.763709         1\n",
              "2        2.0  0.0 -0.314113         1\n",
              "3        0.0  0.0  0.524193         1\n",
              "4        2.0  1.0  0.524193         0\n",
              "...      ...  ...       ...       ...\n",
              "1093     1.0  0.0  0.404435         1\n",
              "1094     2.0  0.0 -0.912903         1\n",
              "1095     0.0  0.0 -1.032661         1\n",
              "1096     0.0  0.0  0.344556         1\n",
              "1097     2.0  0.0 -0.014718         1\n",
              "\n",
              "[1098 rows x 4 columns]"
            ]
          },
          "metadata": {},
          "execution_count": 57
        }
      ]
    },
    {
      "cell_type": "code",
      "metadata": {
        "id": "4b433b84",
        "colab": {
          "base_uri": "https://localhost:8080/",
          "height": 283
        },
        "outputId": "86954bea-3c25-47ce-e5da-56c5dcefa62d"
      },
      "source": [
        "survived_map= {0:'Not Survived', 1:'Survived'}\n",
        "\n",
        "over_sampled_data.survived.map(survived_map).value_counts().plot(kind='pie', subplots=True)"
      ],
      "id": "4b433b84",
      "execution_count": 58,
      "outputs": [
        {
          "output_type": "execute_result",
          "data": {
            "text/plain": [
              "array([<matplotlib.axes._subplots.AxesSubplot object at 0x7fadc4d38110>],\n",
              "      dtype=object)"
            ]
          },
          "metadata": {},
          "execution_count": 58
        },
        {
          "output_type": "display_data",
          "data": {
            "image/png": "[encoded data removed]",
            "text/plain": [
              "<Figure size 432x288 with 1 Axes>"
            ]
          },
          "metadata": {}
        }
      ]
    },
    {
      "cell_type": "markdown",
      "metadata": {
        "id": "cfbfe766"
      },
      "source": [
        "Bisa kita lihat sekarang datanya seimbang"
      ],
      "id": "cfbfe766"
    },
    {
      "cell_type": "markdown",
      "metadata": {
        "id": "88d70cc0"
      },
      "source": [
        "1. SMOTE"
      ],
      "id": "88d70cc0"
    },
    {
      "cell_type": "code",
      "metadata": {
        "id": "8ac4fd98",
        "colab": {
          "base_uri": "https://localhost:8080/"
        },
        "outputId": "cf029520-5f24-4132-b3fb-7d0f2febd9e4"
      },
      "source": [
        "from imblearn.over_sampling import SMOTE\n",
        "\n",
        "smote = SMOTE(sampling_strategy='minority')\n",
        "X_smz, y_sm = smote.fit_resample(X, y)\n",
        "\n",
        "print(Counter(y_sm))"
      ],
      "id": "8ac4fd98",
      "execution_count": 59,
      "outputs": [
        {
          "output_type": "stream",
          "name": "stdout",
          "text": [
            "Counter({0: 549, 1: 549})\n"
          ]
        },
        {
          "output_type": "stream",
          "name": "stderr",
          "text": [
            "/usr/local/lib/python3.7/dist-packages/sklearn/utils/deprecation.py:87: FutureWarning: Function safe_indexing is deprecated; safe_indexing is deprecated in version 0.22 and will be removed in version 0.24.\n",
            "  warnings.warn(msg, category=FutureWarning)\n"
          ]
        }
      ]
    },
    {
      "cell_type": "markdown",
      "metadata": {
        "id": "d564e966"
      },
      "source": [
        "2. SMOTE Tomek"
      ],
      "id": "d564e966"
    },
    {
      "cell_type": "code",
      "metadata": {
        "id": "15a7f42e",
        "colab": {
          "base_uri": "https://localhost:8080/"
        },
        "outputId": "8dcfce2c-04de-47f8-e9a0-228c3c182f6a"
      },
      "source": [
        "from imblearn.combine import SMOTETomek\n",
        "\n",
        "smote= SMOTETomek(sampling_strategy='minority')\n",
        "X_smz, y_sm= smote.fit_resample(X, y)\n",
        "\n",
        "print(Counter(y_sm))"
      ],
      "id": "15a7f42e",
      "execution_count": 60,
      "outputs": [
        {
          "output_type": "stream",
          "name": "stderr",
          "text": [
            "/usr/local/lib/python3.7/dist-packages/sklearn/utils/deprecation.py:87: FutureWarning: Function safe_indexing is deprecated; safe_indexing is deprecated in version 0.22 and will be removed in version 0.24.\n",
            "  warnings.warn(msg, category=FutureWarning)\n"
          ]
        },
        {
          "output_type": "stream",
          "name": "stdout",
          "text": [
            "Counter({0: 540, 1: 540})\n"
          ]
        },
        {
          "output_type": "stream",
          "name": "stderr",
          "text": [
            "/usr/local/lib/python3.7/dist-packages/sklearn/utils/deprecation.py:87: FutureWarning: Function safe_indexing is deprecated; safe_indexing is deprecated in version 0.22 and will be removed in version 0.24.\n",
            "  warnings.warn(msg, category=FutureWarning)\n"
          ]
        }
      ]
    },
    {
      "cell_type": "markdown",
      "metadata": {
        "id": "513ebce0"
      },
      "source": [
        "#### B. Undersampling"
      ],
      "id": "513ebce0"
    },
    {
      "cell_type": "code",
      "metadata": {
        "id": "79d80cad",
        "colab": {
          "base_uri": "https://localhost:8080/"
        },
        "outputId": "b98156c6-99e4-46ec-f3fe-61fb18e871f0"
      },
      "source": [
        "# instantiating the random undersampler\n",
        "rus = RandomUnderSampler() \n",
        "# resampling X, y\n",
        "X_rus, y_rus = rus.fit_resample(X, y)\n",
        "\n",
        "# new class distribution\n",
        "print(Counter(y_rus))"
      ],
      "id": "79d80cad",
      "execution_count": 61,
      "outputs": [
        {
          "output_type": "stream",
          "name": "stdout",
          "text": [
            "Counter({0: 342, 1: 342})\n"
          ]
        },
        {
          "output_type": "stream",
          "name": "stderr",
          "text": [
            "/usr/local/lib/python3.7/dist-packages/sklearn/utils/deprecation.py:87: FutureWarning: Function safe_indexing is deprecated; safe_indexing is deprecated in version 0.22 and will be removed in version 0.24.\n",
            "  warnings.warn(msg, category=FutureWarning)\n"
          ]
        }
      ]
    },
    {
      "cell_type": "markdown",
      "metadata": {
        "id": "ffeb11c5"
      },
      "source": [
        "1.  TOMEK Links"
      ],
      "id": "ffeb11c5"
    },
    {
      "cell_type": "code",
      "metadata": {
        "id": "e5fce746",
        "colab": {
          "base_uri": "https://localhost:8080/"
        },
        "outputId": "23354429-7912-45ba-9aab-b8fc3f3ce851"
      },
      "source": [
        "from imblearn.under_sampling import TomekLinks\n",
        "\n",
        "tl = TomekLinks(sampling_strategy='majority')\n",
        "X_tl, y_tl= tl.fit_resample(X, y)\n",
        "\n",
        "print(Counter(y_tl))"
      ],
      "id": "e5fce746",
      "execution_count": 62,
      "outputs": [
        {
          "output_type": "stream",
          "name": "stdout",
          "text": [
            "Counter({0: 546, 1: 342})\n"
          ]
        },
        {
          "output_type": "stream",
          "name": "stderr",
          "text": [
            "/usr/local/lib/python3.7/dist-packages/sklearn/utils/deprecation.py:87: FutureWarning: Function safe_indexing is deprecated; safe_indexing is deprecated in version 0.22 and will be removed in version 0.24.\n",
            "  warnings.warn(msg, category=FutureWarning)\n"
          ]
        }
      ]
    },
    {
      "cell_type": "code",
      "metadata": {
        "id": "8bf7c4dc",
        "colab": {
          "base_uri": "https://localhost:8080/"
        },
        "outputId": "82f63f04-776a-4509-ba85-0823a740bce7"
      },
      "source": [
        "from imblearn.under_sampling import ClusterCentroids\n",
        "\n",
        "cc = ClusterCentroids()\n",
        "X_cc, y_cc = cc.fit_resample(X, y)\n",
        "\n",
        "print(Counter(y_cc))"
      ],
      "id": "8bf7c4dc",
      "execution_count": 63,
      "outputs": [
        {
          "output_type": "stream",
          "name": "stdout",
          "text": [
            "Counter({0: 342, 1: 342})\n"
          ]
        },
        {
          "output_type": "stream",
          "name": "stderr",
          "text": [
            "/usr/local/lib/python3.7/dist-packages/imblearn/under_sampling/_prototype_generation/_cluster_centroids.py:156: ConvergenceWarning: Number of distinct clusters (179) found smaller than n_clusters (342). Possibly due to duplicate points in X.\n",
            "  self.estimator_.fit(X[y == target_class])\n",
            "/usr/local/lib/python3.7/dist-packages/sklearn/utils/deprecation.py:87: FutureWarning: Function safe_indexing is deprecated; safe_indexing is deprecated in version 0.22 and will be removed in version 0.24.\n",
            "  warnings.warn(msg, category=FutureWarning)\n"
          ]
        }
      ]
    },
    {
      "cell_type": "markdown",
      "metadata": {
        "id": "2191057f"
      },
      "source": [
        "## Klasifikasi"
      ],
      "id": "2191057f"
    },
    {
      "cell_type": "code",
      "metadata": {
        "id": "39b3b754",
        "colab": {
          "base_uri": "https://localhost:8080/"
        },
        "outputId": "a6dabe8e-0a24-49b2-ab86-20072c7491b8"
      },
      "source": [
        "x_train, x_test, y_train, y_test= train_test_split(X, y, test_size=0.2)\n",
        "\n",
        "len(x_test), len(x_train)"
      ],
      "id": "39b3b754",
      "execution_count": 64,
      "outputs": [
        {
          "output_type": "execute_result",
          "data": {
            "text/plain": [
              "(179, 712)"
            ]
          },
          "metadata": {},
          "execution_count": 64
        }
      ]
    },
    {
      "cell_type": "code",
      "metadata": {
        "id": "ddb2ab34",
        "colab": {
          "base_uri": "https://localhost:8080/",
          "height": 1000
        },
        "outputId": "0e3fe9b0-d167-42a4-9f5d-30df2e683692"
      },
      "source": [
        "dct_model= tree.DecisionTreeClassifier()\n",
        "dct_model.fit(x_train, y_train)\n",
        "\n",
        "tree.plot_tree(dct_model, label='root', proportion=True)"
      ],
      "id": "ddb2ab34",
      "execution_count": 65,
      "outputs": [
        {
          "output_type": "execute_result",
          "data": {
            "text/plain": [
              "[Text(111.19220342582108, 210.645, 'X[1] <= 0.5\\ngini = 0.474\\nsamples = 100.0%\\nvalue = [0.614, 0.386]'),\n",
              " Text(47.01608154020386, 197.055, 'X[0] <= 1.5\\n0.384\\n34.7%\\n[0.259, 0.741]'),\n",
              " Text(15.166477916194792, 183.465, 'X[2] <= -1.961\\n0.112\\n18.8%\\n[0.06, 0.94]'),\n",
              " Text(9.099886749716875, 169.875, 'X[0] <= 0.5\\n0.5\\n0.3%\\n[0.5, 0.5]'),\n",
              " Text(6.066591166477917, 156.285, '0.0\\n0.1%\\n[1.0, 0.0]'),\n",
              " Text(12.133182332955833, 156.285, '0.0\\n0.1%\\n[0.0, 1.0]'),\n",
              " Text(21.233069082672706, 169.875, 'X[2] <= -0.554\\n0.1\\n18.5%\\n[0.053, 0.947]'),\n",
              " Text(18.19977349943375, 156.285, '0.0\\n4.5%\\n[0.0, 1.0]'),\n",
              " Text(24.266364665911667, 156.285, 'X[2] <= -0.284\\n0.13\\n14.0%\\n[0.07, 0.93]'),\n",
              " Text(15.166477916194792, 142.695, 'X[2] <= -0.344\\n0.337\\n2.0%\\n[0.214, 0.786]'),\n",
              " Text(12.133182332955833, 129.10500000000002, 'X[2] <= -0.434\\n0.26\\n1.8%\\n[0.154, 0.846]'),\n",
              " Text(6.066591166477917, 115.515, 'X[0] <= 0.5\\n0.18\\n1.4%\\n[0.1, 0.9]'),\n",
              " Text(3.0332955832389583, 101.925, '0.0\\n0.7%\\n[0.0, 1.0]'),\n",
              " Text(9.099886749716875, 101.925, '0.32\\n0.7%\\n[0.2, 0.8]'),\n",
              " Text(18.19977349943375, 115.515, 'X[0] <= 0.5\\n0.444\\n0.4%\\n[0.333, 0.667]'),\n",
              " Text(15.166477916194792, 101.925, '0.0\\n0.1%\\n[1.0, 0.0]'),\n",
              " Text(21.233069082672706, 101.925, '0.0\\n0.3%\\n[0.0, 1.0]'),\n",
              " Text(18.19977349943375, 129.10500000000002, '0.0\\n0.1%\\n[1.0, 0.0]'),\n",
              " Text(33.36625141562854, 142.695, 'X[2] <= 0.674\\n0.089\\n12.1%\\n[0.047, 0.953]'),\n",
              " Text(30.332955832389583, 129.10500000000002, '0.0\\n6.2%\\n[0.0, 1.0]'),\n",
              " Text(36.3995469988675, 129.10500000000002, 'X[0] <= 0.5\\n0.172\\n5.9%\\n[0.095, 0.905]'),\n",
              " Text(30.332955832389583, 115.515, 'X[2] <= 1.572\\n0.069\\n3.9%\\n[0.036, 0.964]'),\n",
              " Text(27.299660249150627, 101.925, '0.0\\n2.2%\\n[0.0, 1.0]'),\n",
              " Text(33.36625141562854, 101.925, 'X[2] <= 1.632\\n0.153\\n1.7%\\n[0.083, 0.917]'),\n",
              " Text(30.332955832389583, 88.33500000000001, '0.5\\n0.3%\\n[0.5, 0.5]'),\n",
              " Text(36.3995469988675, 88.33500000000001, '0.0\\n1.4%\\n[0.0, 1.0]'),\n",
              " Text(42.46613816534541, 115.515, 'X[2] <= 0.824\\n0.337\\n2.0%\\n[0.214, 0.786]'),\n",
              " Text(39.43284258210646, 101.925, '0.0\\n0.1%\\n[1.0, 0.0]'),\n",
              " Text(45.49943374858437, 101.925, 'X[2] <= 1.991\\n0.26\\n1.8%\\n[0.154, 0.846]'),\n",
              " Text(42.46613816534541, 88.33500000000001, 'X[2] <= 1.213\\n0.153\\n1.7%\\n[0.083, 0.917]'),\n",
              " Text(39.43284258210646, 74.745, 'X[2] <= 1.123\\n0.278\\n0.8%\\n[0.167, 0.833]'),\n",
              " Text(36.3995469988675, 61.155, '0.0\\n0.7%\\n[0.0, 1.0]'),\n",
              " Text(42.46613816534541, 61.155, '0.0\\n0.1%\\n[1.0, 0.0]'),\n",
              " Text(45.49943374858437, 74.745, '0.0\\n0.8%\\n[0.0, 1.0]'),\n",
              " Text(48.53272933182333, 88.33500000000001, '0.0\\n0.1%\\n[1.0, 0.0]'),\n",
              " Text(78.86568516421292, 183.465, 'X[2] <= 0.794\\n0.5\\n15.9%\\n[0.496, 0.504]'),\n",
              " Text(72.799093997735, 169.875, 'X[2] <= -2.021\\n0.497\\n14.6%\\n[0.462, 0.538]'),\n",
              " Text(69.76579841449605, 156.285, '0.0\\n0.4%\\n[0.0, 1.0]'),\n",
              " Text(75.83238958097395, 156.285, 'X[2] <= -1.182\\n0.499\\n14.2%\\n[0.475, 0.525]'),\n",
              " Text(63.699207248018126, 142.695, 'X[2] <= -1.781\\n0.475\\n2.5%\\n[0.611, 0.389]'),\n",
              " Text(57.632616081540206, 129.10500000000002, 'X[2] <= -1.901\\n0.444\\n1.3%\\n[0.333, 0.667]'),\n",
              " Text(54.59932049830125, 115.515, 'X[2] <= -1.961\\n0.375\\n0.6%\\n[0.75, 0.25]'),\n",
              " Text(51.56602491506229, 101.925, '0.444\\n0.4%\\n[0.667, 0.333]'),\n",
              " Text(57.632616081540206, 101.925, '0.0\\n0.1%\\n[1.0, 0.0]'),\n",
              " Text(60.665911664779166, 115.515, '0.0\\n0.7%\\n[0.0, 1.0]'),\n",
              " Text(69.76579841449605, 129.10500000000002, 'X[2] <= -1.362\\n0.198\\n1.3%\\n[0.889, 0.111]'),\n",
              " Text(66.73250283125708, 115.515, '0.0\\n0.8%\\n[1.0, 0.0]'),\n",
              " Text(72.799093997735, 115.515, 'X[2] <= -1.242\\n0.444\\n0.4%\\n[0.667, 0.333]'),\n",
              " Text(69.76579841449605, 101.925, '0.5\\n0.3%\\n[0.5, 0.5]'),\n",
              " Text(75.83238958097395, 101.925, '0.0\\n0.1%\\n[1.0, 0.0]'),\n",
              " Text(87.9655719139298, 142.695, 'X[2] <= -1.122\\n0.494\\n11.7%\\n[0.446, 0.554]'),\n",
              " Text(84.93227633069083, 129.10500000000002, '0.0\\n0.3%\\n[0.0, 1.0]'),\n",
              " Text(90.99886749716875, 129.10500000000002, 'X[2] <= 0.285\\n0.496\\n11.4%\\n[0.457, 0.543]'),\n",
              " Text(84.93227633069083, 115.515, 'X[2] <= 0.075\\n0.499\\n10.7%\\n[0.474, 0.526]'),\n",
              " Text(81.89898074745187, 101.925, 'X[2] <= 0.015\\n0.495\\n10.3%\\n[0.452, 0.548]'),\n",
              " Text(78.86568516421292, 88.33500000000001, 'X[2] <= -0.703\\n0.493\\n9.8%\\n[0.443, 0.557]'),\n",
              " Text(69.00747451868631, 74.745, 'X[2] <= -0.883\\n0.499\\n2.7%\\n[0.526, 0.474]'),\n",
              " Text(62.94088335220839, 61.155, 'X[2] <= -0.943\\n0.49\\n2.0%\\n[0.429, 0.571]'),\n",
              " Text(59.90758776896943, 47.565, 'X[2] <= -1.063\\n0.5\\n1.7%\\n[0.5, 0.5]'),\n",
              " Text(56.87429218573047, 33.974999999999994, '0.444\\n0.4%\\n[0.333, 0.667]'),\n",
              " Text(62.94088335220839, 33.974999999999994, 'X[2] <= -1.003\\n0.494\\n1.3%\\n[0.556, 0.444]'),\n",
              " Text(59.90758776896943, 20.38499999999999, '0.5\\n0.3%\\n[0.5, 0.5]'),\n",
              " Text(65.97417893544734, 20.38499999999999, '0.49\\n1.0%\\n[0.571, 0.429]'),\n",
              " Text(65.97417893544734, 47.565, '0.0\\n0.3%\\n[0.0, 1.0]'),\n",
              " Text(75.07406568516421, 61.155, 'X[2] <= -0.793\\n0.32\\n0.7%\\n[0.8, 0.2]'),\n",
              " Text(72.04077010192526, 47.565, '0.0\\n0.3%\\n[1.0, 0.0]'),\n",
              " Text(78.10736126840318, 47.565, '0.444\\n0.4%\\n[0.667, 0.333]'),\n",
              " Text(88.72389580973953, 74.745, 'X[2] <= -0.643\\n0.484\\n7.2%\\n[0.412, 0.588]'),\n",
              " Text(85.69060022650058, 61.155, '0.375\\n0.6%\\n[0.25, 0.75]'),\n",
              " Text(91.75719139297848, 61.155, 'X[2] <= -0.284\\n0.489\\n6.6%\\n[0.426, 0.574]'),\n",
              " Text(84.17395243488109, 47.565, 'X[2] <= -0.434\\n0.49\\n1.0%\\n[0.571, 0.429]'),\n",
              " Text(78.10736126840318, 33.974999999999994, 'X[2] <= -0.554\\n0.5\\n0.6%\\n[0.5, 0.5]'),\n",
              " Text(75.07406568516421, 20.38499999999999, '0.5\\n0.3%\\n[0.5, 0.5]'),\n",
              " Text(81.14065685164213, 20.38499999999999, '0.5\\n0.3%\\n[0.5, 0.5]'),\n",
              " Text(90.24054360135901, 33.974999999999994, 'X[2] <= -0.344\\n0.444\\n0.4%\\n[0.667, 0.333]'),\n",
              " Text(87.20724801812005, 20.38499999999999, '0.0\\n0.1%\\n[1.0, 0.0]'),\n",
              " Text(93.27383918459797, 20.38499999999999, '0.5\\n0.3%\\n[0.5, 0.5]'),\n",
              " Text(99.34043035107588, 47.565, 'X[2] <= -0.224\\n0.48\\n5.6%\\n[0.4, 0.6]'),\n",
              " Text(96.30713476783693, 33.974999999999994, '0.0\\n0.4%\\n[0.0, 1.0]'),\n",
              " Text(102.37372593431485, 33.974999999999994, 'X[2] <= -0.045\\n0.491\\n5.2%\\n[0.432, 0.568]'),\n",
              " Text(99.34043035107588, 20.38499999999999, 'X[2] <= -0.134\\n0.375\\n0.6%\\n[0.75, 0.25]'),\n",
              " Text(96.30713476783693, 6.7949999999999875, '0.0\\n0.1%\\n[1.0, 0.0]'),\n",
              " Text(102.37372593431485, 6.7949999999999875, '0.444\\n0.4%\\n[0.667, 0.333]'),\n",
              " Text(105.4070215175538, 20.38499999999999, '0.478\\n4.6%\\n[0.394, 0.606]'),\n",
              " Text(84.93227633069083, 88.33500000000001, '0.444\\n0.4%\\n[0.667, 0.333]'),\n",
              " Text(87.9655719139298, 101.925, '0.0\\n0.4%\\n[1.0, 0.0]'),\n",
              " Text(97.06545866364667, 115.515, 'X[2] <= 0.644\\n0.32\\n0.7%\\n[0.2, 0.8]'),\n",
              " Text(94.03216308040771, 101.925, '0.0\\n0.4%\\n[0.0, 1.0]'),\n",
              " Text(100.09875424688562, 101.925, 'X[2] <= 0.734\\n0.5\\n0.3%\\n[0.5, 0.5]'),\n",
              " Text(97.06545866364667, 88.33500000000001, '0.0\\n0.1%\\n[1.0, 0.0]'),\n",
              " Text(103.13204983012459, 88.33500000000001, '0.0\\n0.1%\\n[0.0, 1.0]'),\n",
              " Text(84.93227633069083, 169.875, 'X[2] <= 1.931\\n0.198\\n1.3%\\n[0.889, 0.111]'),\n",
              " Text(81.89898074745187, 156.285, '0.0\\n1.1%\\n[1.0, 0.0]'),\n",
              " Text(87.9655719139298, 156.285, '0.0\\n0.1%\\n[0.0, 1.0]'),\n",
              " Text(175.3683253114383, 197.055, 'X[2] <= -1.332\\n0.317\\n65.3%\\n[0.802, 0.198]'),\n",
              " Text(103.13204983012459, 183.465, 'X[0] <= 1.5\\n0.469\\n4.5%\\n[0.375, 0.625]'),\n",
              " Text(100.09875424688562, 169.875, '0.0\\n1.5%\\n[0.0, 1.0]'),\n",
              " Text(106.16534541336354, 169.875, 'X[2] <= -2.2\\n0.49\\n2.9%\\n[0.571, 0.429]'),\n",
              " Text(103.13204983012459, 156.285, '0.0\\n0.1%\\n[0.0, 1.0]'),\n",
              " Text(109.1986409966025, 156.285, 'X[2] <= -1.961\\n0.48\\n2.8%\\n[0.6, 0.4]'),\n",
              " Text(103.13204983012459, 142.695, 'X[2] <= -2.021\\n0.278\\n0.8%\\n[0.833, 0.167]'),\n",
              " Text(100.09875424688562, 129.10500000000002, '0.444\\n0.4%\\n[0.667, 0.333]'),\n",
              " Text(106.16534541336354, 129.10500000000002, '0.0\\n0.4%\\n[1.0, 0.0]'),\n",
              " Text(115.26523216308041, 142.695, 'X[2] <= -1.901\\n0.5\\n2.0%\\n[0.5, 0.5]'),\n",
              " Text(112.23193657984146, 129.10500000000002, '0.0\\n0.3%\\n[0.0, 1.0]'),\n",
              " Text(118.29852774631938, 129.10500000000002, 'X[2] <= -1.422\\n0.486\\n1.7%\\n[0.583, 0.417]'),\n",
              " Text(115.26523216308041, 115.515, 'X[2] <= -1.542\\n0.463\\n1.5%\\n[0.636, 0.364]'),\n",
              " Text(112.23193657984146, 101.925, 'X[2] <= -1.811\\n0.494\\n1.3%\\n[0.556, 0.444]'),\n",
              " Text(109.1986409966025, 88.33500000000001, '0.375\\n0.6%\\n[0.75, 0.25]'),\n",
              " Text(115.26523216308041, 88.33500000000001, 'X[2] <= -1.721\\n0.48\\n0.7%\\n[0.4, 0.6]'),\n",
              " Text(112.23193657984146, 74.745, '0.0\\n0.1%\\n[0.0, 1.0]'),\n",
              " Text(118.29852774631938, 74.745, 'X[2] <= -1.631\\n0.5\\n0.6%\\n[0.5, 0.5]'),\n",
              " Text(115.26523216308041, 61.155, '0.0\\n0.1%\\n[1.0, 0.0]'),\n",
              " Text(121.33182332955833, 61.155, '0.444\\n0.4%\\n[0.333, 0.667]'),\n",
              " Text(118.29852774631938, 101.925, '0.0\\n0.3%\\n[1.0, 0.0]'),\n",
              " Text(121.33182332955833, 115.515, '0.0\\n0.1%\\n[0.0, 1.0]'),\n",
              " Text(247.604600792752, 183.465, 'X[0] <= 0.5\\n0.277\\n60.8%\\n[0.834, 0.166]'),\n",
              " Text(207.4015855039638, 169.875, 'X[2] <= 1.782\\n0.464\\n14.2%\\n[0.634, 0.366]'),\n",
              " Text(190.33929784824463, 156.285, 'X[2] <= 1.452\\n0.492\\n11.2%\\n[0.562, 0.438]'),\n",
              " Text(177.44779161947906, 142.695, 'X[2] <= 1.123\\n0.48\\n9.8%\\n[0.6, 0.4]'),\n",
              " Text(160.7646659116648, 129.10500000000002, 'X[2] <= 0.374\\n0.492\\n8.7%\\n[0.565, 0.435]'),\n",
              " Text(145.59818799547, 115.515, 'X[2] <= -0.134\\n0.45\\n5.8%\\n[0.659, 0.341]'),\n",
              " Text(133.46500566251416, 101.925, 'X[2] <= -0.643\\n0.498\\n2.4%\\n[0.471, 0.529]'),\n",
              " Text(127.39841449603625, 88.33500000000001, 'X[2] <= -1.003\\n0.32\\n0.7%\\n[0.8, 0.2]'),\n",
              " Text(124.36511891279729, 74.745, '0.0\\n0.1%\\n[0.0, 1.0]'),\n",
              " Text(130.4317100792752, 74.745, '0.0\\n0.6%\\n[1.0, 0.0]'),\n",
              " Text(139.5315968289921, 88.33500000000001, 'X[2] <= -0.224\\n0.444\\n1.7%\\n[0.333, 0.667]'),\n",
              " Text(136.4983012457531, 74.745, 'X[2] <= -0.434\\n0.375\\n1.1%\\n[0.25, 0.75]'),\n",
              " Text(130.4317100792752, 61.155, 'X[2] <= -0.554\\n0.5\\n0.3%\\n[0.5, 0.5]'),\n",
              " Text(127.39841449603625, 47.565, '0.0\\n0.1%\\n[0.0, 1.0]'),\n",
              " Text(133.46500566251416, 47.565, '0.0\\n0.1%\\n[1.0, 0.0]'),\n",
              " Text(142.56489241223105, 61.155, 'X[2] <= -0.284\\n0.278\\n0.8%\\n[0.167, 0.833]'),\n",
              " Text(139.5315968289921, 47.565, '0.0\\n0.4%\\n[0.0, 1.0]'),\n",
              " Text(145.59818799547, 47.565, '0.444\\n0.4%\\n[0.333, 0.667]'),\n",
              " Text(142.56489241223105, 74.745, '0.5\\n0.6%\\n[0.5, 0.5]'),\n",
              " Text(157.73137032842584, 101.925, 'X[2] <= -0.045\\n0.33\\n3.4%\\n[0.792, 0.208]'),\n",
              " Text(154.6980747451869, 88.33500000000001, '0.0\\n0.3%\\n[1.0, 0.0]'),\n",
              " Text(160.7646659116648, 88.33500000000001, 'X[2] <= 0.255\\n0.351\\n3.1%\\n[0.773, 0.227]'),\n",
              " Text(157.73137032842584, 74.745, 'X[2] <= 0.105\\n0.363\\n2.9%\\n[0.762, 0.238]'),\n",
              " Text(154.6980747451869, 61.155, 'X[2] <= 0.015\\n0.346\\n2.5%\\n[0.778, 0.222]'),\n",
              " Text(151.6647791619479, 47.565, '0.36\\n2.4%\\n[0.765, 0.235]'),\n",
              " Text(157.73137032842584, 47.565, '0.0\\n0.1%\\n[1.0, 0.0]'),\n",
              " Text(160.7646659116648, 61.155, '0.444\\n0.4%\\n[0.667, 0.333]'),\n",
              " Text(163.79796149490375, 74.745, '0.0\\n0.1%\\n[1.0, 0.0]'),\n",
              " Text(175.9311438278596, 115.515, 'X[2] <= 0.644\\n0.472\\n2.9%\\n[0.381, 0.619]'),\n",
              " Text(169.86455266138165, 101.925, 'X[2] <= 0.554\\n0.198\\n1.3%\\n[0.111, 0.889]'),\n",
              " Text(166.8312570781427, 88.33500000000001, '0.0\\n0.6%\\n[0.0, 1.0]'),\n",
              " Text(172.89784824462063, 88.33500000000001, '0.32\\n0.7%\\n[0.2, 0.8]'),\n",
              " Text(181.9977349943375, 101.925, 'X[2] <= 0.973\\n0.486\\n1.7%\\n[0.583, 0.417]'),\n",
              " Text(178.96443941109854, 88.33500000000001, 'X[2] <= 0.794\\n0.444\\n1.3%\\n[0.667, 0.333]'),\n",
              " Text(172.89784824462063, 74.745, 'X[2] <= 0.734\\n0.48\\n0.7%\\n[0.6, 0.4]'),\n",
              " Text(169.86455266138165, 61.155, '0.444\\n0.4%\\n[0.667, 0.333]'),\n",
              " Text(175.9311438278596, 61.155, '0.5\\n0.3%\\n[0.5, 0.5]'),\n",
              " Text(185.03103057757644, 74.745, 'X[2] <= 0.854\\n0.375\\n0.6%\\n[0.75, 0.25]'),\n",
              " Text(181.9977349943375, 61.155, '0.0\\n0.1%\\n[1.0, 0.0]'),\n",
              " Text(188.06432616081543, 61.155, '0.444\\n0.4%\\n[0.667, 0.333]'),\n",
              " Text(185.03103057757644, 88.33500000000001, '0.444\\n0.4%\\n[0.333, 0.667]'),\n",
              " Text(194.13091732729333, 129.10500000000002, 'X[2] <= 1.273\\n0.219\\n1.1%\\n[0.875, 0.125]'),\n",
              " Text(191.09762174405438, 115.515, 'X[2] <= 1.213\\n0.375\\n0.6%\\n[0.75, 0.25]'),\n",
              " Text(188.06432616081543, 101.925, '0.0\\n0.1%\\n[1.0, 0.0]'),\n",
              " Text(194.13091732729333, 101.925, '0.444\\n0.4%\\n[0.667, 0.333]'),\n",
              " Text(197.16421291053229, 115.515, '0.0\\n0.6%\\n[1.0, 0.0]'),\n",
              " Text(203.23080407701022, 142.695, 'X[2] <= 1.512\\n0.42\\n1.4%\\n[0.3, 0.7]'),\n",
              " Text(200.19750849377124, 129.10500000000002, '0.0\\n0.3%\\n[0.0, 1.0]'),\n",
              " Text(206.26409966024917, 129.10500000000002, 'X[2] <= 1.692\\n0.469\\n1.1%\\n[0.375, 0.625]'),\n",
              " Text(203.23080407701022, 115.515, 'X[2] <= 1.632\\n0.444\\n0.8%\\n[0.333, 0.667]'),\n",
              " Text(200.19750849377124, 101.925, 'X[2] <= 1.572\\n0.48\\n0.7%\\n[0.4, 0.6]'),\n",
              " Text(197.16421291053229, 88.33500000000001, '0.444\\n0.4%\\n[0.333, 0.667]'),\n",
              " Text(203.23080407701022, 88.33500000000001, '0.5\\n0.3%\\n[0.5, 0.5]'),\n",
              " Text(206.26409966024917, 101.925, '0.0\\n0.1%\\n[0.0, 1.0]'),\n",
              " Text(209.29739524348813, 115.515, '0.5\\n0.3%\\n[0.5, 0.5]'),\n",
              " Text(224.46387315968292, 156.285, 'X[2] <= 2.859\\n0.172\\n2.9%\\n[0.905, 0.095]'),\n",
              " Text(221.43057757644397, 142.695, 'X[2] <= 2.081\\n0.095\\n2.8%\\n[0.95, 0.05]'),\n",
              " Text(218.397281993205, 129.10500000000002, 'X[2] <= 1.961\\n0.278\\n0.8%\\n[0.833, 0.167]'),\n",
              " Text(215.36398640996603, 115.515, '0.0\\n0.4%\\n[1.0, 0.0]'),\n",
              " Text(221.43057757644397, 115.515, '0.444\\n0.4%\\n[0.667, 0.333]'),\n",
              " Text(224.46387315968292, 129.10500000000002, '0.0\\n2.0%\\n[1.0, 0.0]'),\n",
              " Text(227.49716874292187, 142.695, '0.0\\n0.1%\\n[0.0, 1.0]'),\n",
              " Text(287.80761608154023, 169.875, 'X[2] <= 0.255\\n0.189\\n46.6%\\n[0.895, 0.105]'),\n",
              " Text(259.01500566251417, 156.285, 'X[2] <= 0.195\\n0.216\\n34.3%\\n[0.877, 0.123]'),\n",
              " Text(247.49796149490376, 142.695, 'X[0] <= 1.5\\n0.192\\n32.6%\\n[0.892, 0.108]'),\n",
              " Text(233.56375990939978, 129.10500000000002, 'X[2] <= -0.045\\n0.127\\n6.2%\\n[0.932, 0.068]'),\n",
              " Text(227.49716874292187, 115.515, 'X[2] <= -0.823\\n0.067\\n4.1%\\n[0.966, 0.034]'),\n",
              " Text(224.46387315968292, 101.925, 'X[2] <= -0.943\\n0.219\\n1.1%\\n[0.875, 0.125]'),\n",
              " Text(221.43057757644397, 88.33500000000001, '0.0\\n0.7%\\n[1.0, 0.0]'),\n",
              " Text(227.49716874292187, 88.33500000000001, '0.444\\n0.4%\\n[0.667, 0.333]'),\n",
              " Text(230.53046432616082, 101.925, '0.0\\n2.9%\\n[1.0, 0.0]'),\n",
              " Text(239.6303510758777, 115.515, 'X[2] <= 0.015\\n0.231\\n2.1%\\n[0.867, 0.133]'),\n",
              " Text(236.59705549263876, 101.925, '0.375\\n1.1%\\n[0.75, 0.25]'),\n",
              " Text(242.66364665911667, 101.925, '0.0\\n1.0%\\n[1.0, 0.0]'),\n",
              " Text(261.43216308040775, 129.10500000000002, 'X[2] <= 0.135\\n0.207\\n26.4%\\n[0.883, 0.117]'),\n",
              " Text(258.39886749716874, 115.515, 'X[2] <= -0.224\\n0.2\\n26.1%\\n[0.887, 0.113]'),\n",
              " Text(248.73023782559457, 101.925, 'X[2] <= -0.284\\n0.245\\n13.8%\\n[0.857, 0.143]'),\n",
              " Text(245.69694224235562, 88.33500000000001, 'X[2] <= -1.003\\n0.234\\n13.5%\\n[0.865, 0.135]'),\n",
              " Text(236.21789354473387, 74.745, 'X[2] <= -1.063\\n0.111\\n2.4%\\n[0.941, 0.059]'),\n",
              " Text(233.18459796149492, 61.155, 'X[2] <= -1.122\\n0.153\\n1.7%\\n[0.917, 0.083]'),\n",
              " Text(230.15130237825596, 47.565, '0.0\\n0.4%\\n[1.0, 0.0]'),\n",
              " Text(236.21789354473387, 47.565, '0.198\\n1.3%\\n[0.889, 0.111]'),\n",
              " Text(239.25118912797285, 61.155, '0.0\\n0.7%\\n[1.0, 0.0]'),\n",
              " Text(255.17599093997737, 74.745, 'X[2] <= -0.793\\n0.258\\n11.1%\\n[0.848, 0.152]'),\n",
              " Text(245.31778029445076, 61.155, 'X[2] <= -0.883\\n0.311\\n3.7%\\n[0.808, 0.192]'),\n",
              " Text(242.2844847112118, 47.565, 'X[2] <= -0.943\\n0.231\\n2.1%\\n[0.867, 0.133]'),\n",
              " Text(239.25118912797285, 33.974999999999994, '0.245\\n1.0%\\n[0.857, 0.143]'),\n",
              " Text(245.31778029445076, 33.974999999999994, '0.219\\n1.1%\\n[0.875, 0.125]'),\n",
              " Text(248.3510758776897, 47.565, '0.397\\n1.5%\\n[0.727, 0.273]'),\n",
              " Text(265.034201585504, 61.155, 'X[2] <= -0.404\\n0.229\\n7.4%\\n[0.868, 0.132]'),\n",
              " Text(257.45096262740657, 47.565, 'X[2] <= -0.524\\n0.165\\n4.6%\\n[0.909, 0.091]'),\n",
              " Text(251.38437146092866, 33.974999999999994, 'X[2] <= -0.643\\n0.147\\n3.5%\\n[0.92, 0.08]'),\n",
              " Text(248.3510758776897, 20.38499999999999, 'X[2] <= -0.703\\n0.165\\n3.1%\\n[0.909, 0.091]'),\n",
              " Text(245.31778029445076, 6.7949999999999875, '0.165\\n1.5%\\n[0.909, 0.091]'),\n",
              " Text(251.38437146092866, 6.7949999999999875, '0.165\\n1.5%\\n[0.909, 0.091]'),\n",
              " Text(254.41766704416762, 20.38499999999999, '0.0\\n0.4%\\n[1.0, 0.0]'),\n",
              " Text(263.51755379388453, 33.974999999999994, 'X[2] <= -0.464\\n0.219\\n1.1%\\n[0.875, 0.125]'),\n",
              " Text(260.4842582106455, 20.38499999999999, '0.245\\n1.0%\\n[0.857, 0.143]'),\n",
              " Text(266.5508493771235, 20.38499999999999, '0.0\\n0.1%\\n[1.0, 0.0]'),\n",
              " Text(272.6174405436014, 47.565, 'X[2] <= -0.344\\n0.32\\n2.8%\\n[0.8, 0.2]'),\n",
              " Text(269.58414496036244, 33.974999999999994, '0.32\\n1.4%\\n[0.8, 0.2]'),\n",
              " Text(275.65073612684034, 33.974999999999994, '0.32\\n1.4%\\n[0.8, 0.2]'),\n",
              " Text(251.76353340883355, 88.33500000000001, '0.5\\n0.3%\\n[0.5, 0.5]'),\n",
              " Text(268.06749716874293, 101.925, 'X[2] <= -0.105\\n0.146\\n12.4%\\n[0.92, 0.08]'),\n",
              " Text(265.034201585504, 88.33500000000001, '0.0\\n1.3%\\n[1.0, 0.0]'),\n",
              " Text(271.1007927519819, 88.33500000000001, 'X[2] <= -0.045\\n0.162\\n11.1%\\n[0.911, 0.089]'),\n",
              " Text(268.06749716874293, 74.745, '0.375\\n0.6%\\n[0.75, 0.25]'),\n",
              " Text(274.13408833522084, 74.745, 'X[2] <= 0.015\\n0.147\\n10.5%\\n[0.92, 0.08]'),\n",
              " Text(271.1007927519819, 61.155, '0.157\\n9.8%\\n[0.914, 0.086]'),\n",
              " Text(277.1673839184598, 61.155, '0.0\\n0.7%\\n[1.0, 0.0]'),\n",
              " Text(264.4654586636467, 115.515, '0.5\\n0.3%\\n[0.5, 0.5]'),\n",
              " Text(270.5320498301246, 142.695, 'X[0] <= 1.5\\n0.486\\n1.7%\\n[0.583, 0.417]'),\n",
              " Text(267.49875424688565, 129.10500000000002, '0.444\\n0.4%\\n[0.667, 0.333]'),\n",
              " Text(273.56534541336356, 129.10500000000002, '0.494\\n1.3%\\n[0.556, 0.444]'),\n",
              " Text(316.6002265005663, 156.285, 'X[2] <= 1.273\\n0.107\\n12.4%\\n[0.943, 0.057]'),\n",
              " Text(313.56693091732734, 142.695, 'X[2] <= 1.213\\n0.142\\n9.1%\\n[0.923, 0.077]'),\n",
              " Text(310.53363533408833, 129.10500000000002, 'X[2] <= 1.033\\n0.119\\n8.8%\\n[0.937, 0.063]'),\n",
              " Text(298.4004530011325, 115.515, 'X[2] <= 0.794\\n0.078\\n6.9%\\n[0.959, 0.041]'),\n",
              " Text(292.3338618346546, 101.925, 'X[0] <= 1.5\\n0.054\\n5.1%\\n[0.972, 0.028]'),\n",
              " Text(289.30056625141566, 88.33500000000001, 'X[2] <= 0.464\\n0.124\\n2.1%\\n[0.933, 0.067]'),\n",
              " Text(286.2672706681767, 74.745, 'X[2] <= 0.374\\n0.219\\n1.1%\\n[0.875, 0.125]'),\n",
              " Text(283.23397508493775, 61.155, '0.0\\n0.3%\\n[1.0, 0.0]'),\n",
              " Text(289.30056625141566, 61.155, '0.278\\n0.8%\\n[0.833, 0.167]'),\n",
              " Text(292.3338618346546, 74.745, '0.0\\n1.0%\\n[1.0, 0.0]'),\n",
              " Text(295.36715741789357, 88.33500000000001, '0.0\\n2.9%\\n[1.0, 0.0]'),\n",
              " Text(304.4670441676104, 101.925, 'X[2] <= 0.854\\n0.142\\n1.8%\\n[0.923, 0.077]'),\n",
              " Text(301.4337485843715, 88.33500000000001, 'X[0] <= 1.5\\n0.278\\n0.8%\\n[0.833, 0.167]'),\n",
              " Text(298.4004530011325, 74.745, '0.0\\n0.3%\\n[1.0, 0.0]'),\n",
              " Text(304.4670441676104, 74.745, '0.375\\n0.6%\\n[0.75, 0.25]'),\n",
              " Text(307.5003397508494, 88.33500000000001, '0.0\\n1.0%\\n[1.0, 0.0]'),\n",
              " Text(322.6668176670442, 115.515, 'X[2] <= 1.153\\n0.245\\n2.0%\\n[0.857, 0.143]'),\n",
              " Text(316.6002265005663, 101.925, 'X[0] <= 1.5\\n0.198\\n1.3%\\n[0.889, 0.111]'),\n",
              " Text(313.56693091732734, 88.33500000000001, 'X[2] <= 1.093\\n0.375\\n0.6%\\n[0.75, 0.25]'),\n",
              " Text(310.53363533408833, 74.745, '0.444\\n0.4%\\n[0.667, 0.333]'),\n",
              " Text(316.6002265005663, 74.745, '0.0\\n0.1%\\n[1.0, 0.0]'),\n",
              " Text(319.63352208380525, 88.33500000000001, '0.0\\n0.7%\\n[1.0, 0.0]'),\n",
              " Text(328.7334088335221, 101.925, 'X[0] <= 1.5\\n0.32\\n0.7%\\n[0.8, 0.2]'),\n",
              " Text(325.70011325028315, 88.33500000000001, '0.0\\n0.1%\\n[1.0, 0.0]'),\n",
              " Text(331.76670441676106, 88.33500000000001, '0.375\\n0.6%\\n[0.75, 0.25]'),\n",
              " Text(316.6002265005663, 129.10500000000002, '0.5\\n0.3%\\n[0.5, 0.5]'),\n",
              " Text(319.63352208380525, 142.695, '0.0\\n3.2%\\n[1.0, 0.0]')]"
            ]
          },
          "metadata": {},
          "execution_count": 65
        },
        {
          "output_type": "display_data",
          "data": {
            "image/png": "[encoded data removed]",
            "text/plain": [
              "<Figure size 432x288 with 1 Axes>"
            ]
          },
          "metadata": {
            "needs_background": "light"
          }
        }
      ]
    },
    {
      "cell_type": "code",
      "metadata": {
        "id": "574d81ef",
        "colab": {
          "base_uri": "https://localhost:8080/"
        },
        "outputId": "0e53d827-e79b-493f-f695-e7efb2721c39"
      },
      "source": [
        "pred_x= dct_model.predict(x_test)\n",
        "\n",
        "accuraccy= (pred_x==y_test).sum()/len(y_test)\n",
        "accuraccy"
      ],
      "id": "574d81ef",
      "execution_count": 66,
      "outputs": [
        {
          "output_type": "execute_result",
          "data": {
            "text/plain": [
              "0.8324022346368715"
            ]
          },
          "metadata": {},
          "execution_count": 66
        }
      ]
    },
    {
      "cell_type": "code",
      "metadata": {
        "id": "aad71574",
        "colab": {
          "base_uri": "https://localhost:8080/",
          "height": 331
        },
        "outputId": "31e2ddb0-e58b-4072-f65a-de6f294e599d"
      },
      "source": [
        "conf_mat = confusion_matrix(y_true=y_test, y_pred=pred_x)\n",
        "print('Confusion matrix:\\n', conf_mat)\n",
        "\n",
        "\n",
        "labels = ['Survived', 'Not Survived']\n",
        "fig = plt.figure()\n",
        "ax = fig.add_subplot(111)\n",
        "cax = ax.matshow(conf_mat, cmap=plt.cm.Reds)\n",
        "fig.colorbar(cax)\n",
        "ax.set_xticklabels([''] + labels)\n",
        "ax.set_yticklabels([''] + labels)\n",
        "plt.xlabel('Predicted')\n",
        "plt.ylabel('Expected')\n",
        "plt.show()"
      ],
      "id": "aad71574",
      "execution_count": 67,
      "outputs": [
        {
          "output_type": "stream",
          "name": "stdout",
          "text": [
            "Confusion matrix:\n",
            " [[103   9]\n",
            " [ 21  46]]\n"
          ]
        },
        {
          "output_type": "display_data",
          "data": {
            "image/png": "[encoded data removed]",
            "text/plain": [
              "<Figure size 432x288 with 2 Axes>"
            ]
          },
          "metadata": {
            "needs_background": "light"
          }
        }
      ]
    }
  ]
}